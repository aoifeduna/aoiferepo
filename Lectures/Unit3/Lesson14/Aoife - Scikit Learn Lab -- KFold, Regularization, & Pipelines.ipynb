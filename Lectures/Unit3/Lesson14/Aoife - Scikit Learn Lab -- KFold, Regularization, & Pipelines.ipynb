{
 "cells": [
  {
   "cell_type": "markdown",
   "metadata": {},
   "source": [
    "### Lab: KFold, Regularization, & Pipelines\n",
    "\n",
    "Welcome!  This lab is going to introduce us to some very important aspects of data processing and model building.  \n",
    "\n",
    "Specifically, it's going to go over the following:\n",
    "\n",
    " - **KFold Cross Validation:** This is a more thorough way of choosing your validation set to give you a better idea of how your model might perform under various circumstances within your training data.\n",
    " - **Regularization:** This is an evergreen technique for dealing with models that are overfit (ie, higher scores on training vs. test data).  Regularized linear models are often much better prepared to handle messy data & outliers when using this technique.\n",
    " - **Pipelines:** (Time permitting!) This is an underappreciated aspect of the Scikit-Learn api that allows you to chain together multiple data processing steps, making it much easier to test different models and work seamlessly between your training & test sets."
   ]
  },
  {
   "cell_type": "markdown",
   "metadata": {},
   "source": [
    "**Note:** This lab builds off of the one performed in the last class.  As such, it might be easier just to keep working in your previous lab to answer these questions.  It assumes you already have your data processed from the iowa housing lab.  \n",
    "\n",
    "The questions are listed here just to make the separation of concerns easier."
   ]
  },
  {
   "cell_type": "markdown",
   "metadata": {},
   "source": [
    "### Question 1: How Does Your Validation Score Differ Using KFold Cross Validation?\n",
    "\n",
    "Take a look at the validation score you got from your previous exercise.  \n",
    "\n",
    "This time, run your model through KFold cross validation using `cross_val_score`.  Is your total validation score appreciably different?  What were your highest and lowest values?\n",
    "\n",
    "What if you changed your number of folds?  Try using 5, 10, & 25 folds."
   ]
  },
  {
   "cell_type": "code",
   "execution_count": 62,
   "metadata": {},
   "outputs": [],
   "source": [
    "# these are the steps from the previous lab\n",
    "import pandas as pd\n",
    "import numpy as np\n",
    "train = pd.read_csv('../data/iowa_housing/train.csv')\n",
    "test  = pd.read_csv('../data/iowa_housing/test.csv')\n",
    "\n",
    "# your answer here\n",
    "y = train['SalePrice']\n",
    "train.drop('SalePrice', axis=1, inplace=True)\n",
    "train.drop('Id', axis=1, inplace=True)\n",
    "test.drop('Id', axis=1, inplace=True)\n",
    "\n",
    "train_empty = train.loc[:, train.isnull().sum() > 0]\n",
    "# grab the columns\n",
    "cols = train_empty.columns.tolist()\n",
    "# fill with the appropriate value  -- NA, Other, could also work\n",
    "train[['GarageType', 'GarageFinish']] = train[['GarageType', 'GarageFinish']].fillna('None')\n",
    "test[['GarageType', 'GarageFinish']]  = test[['GarageType', 'GarageFinish']].fillna('None')\n",
    "\n",
    "# we'll use this for GarageYrBlt since it's a numeric column\n",
    "train['GarageYrBlt'].fillna(0, inplace=True)\n",
    "test['GarageYrBlt'].fillna(0, inplace=True)\n",
    "\n",
    "# finding the values to use in the training set\n",
    "ms_mode   = train['MSZoning'].mode()[0]\n",
    "gcarsmean = train['GarageCars'].mean()\n",
    "\n",
    "# and applying them to the test set\n",
    "test['MSZoning'].fillna(ms_mode, inplace=True)\n",
    "test['GarageCars'].fillna(gcarsmean, inplace=True)\n",
    "\n",
    "# your code here\n",
    "# we'll assume the GarageFinish is ordinal.  Ie, FinishedGarage > Unfinished Garage\n",
    "garage_mapping = {\n",
    "    'None': 0, # no garage\n",
    "    'Unf' : 1, # unfinished garage\n",
    "    'RFn' : 2, # partially finished garage\n",
    "    'Fin' : 3  # finished garage\n",
    "}\n",
    "\n",
    "train['GarageFinish'] = train['GarageFinish'].map(garage_mapping)\n",
    "test['GarageFinish']  = test['GarageFinish'].map(garage_mapping)\n",
    "\n",
    "# MSSubClass is really a category, moreso than a true number\n",
    "# so we'll add it to the list of items to be encoded\n",
    "train['MSSubClass'] = train['MSSubClass'].astype(str)\n",
    "test['MSSubClass']  = test['MSSubClass'].astype(str)\n",
    "\n",
    "# concatenate and encode\n",
    "master = pd.concat([train, test])\n",
    "master = pd.get_dummies(master)\n",
    "\n",
    "# drop MSSubClass150\n",
    "master.drop('MSSubClass_150', axis=1, inplace=True)\n",
    "\n",
    "# and split back apart\n",
    "train  = master.iloc[:1460].copy()\n",
    "test   = master.iloc[1460:].copy()\n",
    "\n",
    "# save these values, to use on both your training and test set\n",
    "train_means = train.mean()\n",
    "train_stds  = train.std()\n",
    "\n",
    "# standardize the training set\n",
    "train -= train_means\n",
    "train /= train_stds\n",
    "\n",
    "# and do the same for the test set\n",
    "test -= train_means\n",
    "test /= train_stds"
   ]
  },
  {
   "cell_type": "code",
   "execution_count": 63,
   "metadata": {},
   "outputs": [
    {
     "data": {
      "text/html": [
       "<div>\n",
       "<style scoped>\n",
       "    .dataframe tbody tr th:only-of-type {\n",
       "        vertical-align: middle;\n",
       "    }\n",
       "\n",
       "    .dataframe tbody tr th {\n",
       "        vertical-align: top;\n",
       "    }\n",
       "\n",
       "    .dataframe thead th {\n",
       "        text-align: right;\n",
       "    }\n",
       "</style>\n",
       "<table border=\"1\" class=\"dataframe\">\n",
       "  <thead>\n",
       "    <tr style=\"text-align: right;\">\n",
       "      <th></th>\n",
       "      <th>LotArea</th>\n",
       "      <th>OverallQual</th>\n",
       "      <th>OverallCond</th>\n",
       "      <th>YearBuilt</th>\n",
       "      <th>GrLivArea</th>\n",
       "      <th>1stFlrSF</th>\n",
       "      <th>2ndFlrSF</th>\n",
       "      <th>GrLivArea.1</th>\n",
       "      <th>FullBath</th>\n",
       "      <th>HalfBath</th>\n",
       "      <th>...</th>\n",
       "      <th>Neighborhood_StoneBr</th>\n",
       "      <th>Neighborhood_Timber</th>\n",
       "      <th>Neighborhood_Veenker</th>\n",
       "      <th>GarageType_2Types</th>\n",
       "      <th>GarageType_Attchd</th>\n",
       "      <th>GarageType_Basment</th>\n",
       "      <th>GarageType_BuiltIn</th>\n",
       "      <th>GarageType_CarPort</th>\n",
       "      <th>GarageType_Detchd</th>\n",
       "      <th>GarageType_None</th>\n",
       "    </tr>\n",
       "  </thead>\n",
       "  <tbody>\n",
       "    <tr>\n",
       "      <td>0</td>\n",
       "      <td>-0.207071</td>\n",
       "      <td>0.651256</td>\n",
       "      <td>-0.517023</td>\n",
       "      <td>1.050634</td>\n",
       "      <td>0.370207</td>\n",
       "      <td>-0.793162</td>\n",
       "      <td>1.161454</td>\n",
       "      <td>0.370207</td>\n",
       "      <td>0.789470</td>\n",
       "      <td>1.227165</td>\n",
       "      <td>...</td>\n",
       "      <td>-0.131946</td>\n",
       "      <td>-0.163415</td>\n",
       "      <td>-0.087099</td>\n",
       "      <td>-0.064216</td>\n",
       "      <td>0.823223</td>\n",
       "      <td>-0.114788</td>\n",
       "      <td>-0.253172</td>\n",
       "      <td>-0.07873</td>\n",
       "      <td>-0.600353</td>\n",
       "      <td>-0.242277</td>\n",
       "    </tr>\n",
       "    <tr>\n",
       "      <td>1</td>\n",
       "      <td>-0.091855</td>\n",
       "      <td>-0.071812</td>\n",
       "      <td>2.178881</td>\n",
       "      <td>0.156680</td>\n",
       "      <td>-0.482347</td>\n",
       "      <td>0.257052</td>\n",
       "      <td>-0.794891</td>\n",
       "      <td>-0.482347</td>\n",
       "      <td>0.789470</td>\n",
       "      <td>-0.761360</td>\n",
       "      <td>...</td>\n",
       "      <td>-0.131946</td>\n",
       "      <td>-0.163415</td>\n",
       "      <td>11.473319</td>\n",
       "      <td>-0.064216</td>\n",
       "      <td>0.823223</td>\n",
       "      <td>-0.114788</td>\n",
       "      <td>-0.253172</td>\n",
       "      <td>-0.07873</td>\n",
       "      <td>-0.600353</td>\n",
       "      <td>-0.242277</td>\n",
       "    </tr>\n",
       "    <tr>\n",
       "      <td>2</td>\n",
       "      <td>0.073455</td>\n",
       "      <td>0.651256</td>\n",
       "      <td>-0.517023</td>\n",
       "      <td>0.984415</td>\n",
       "      <td>0.514836</td>\n",
       "      <td>-0.627611</td>\n",
       "      <td>1.188943</td>\n",
       "      <td>0.514836</td>\n",
       "      <td>0.789470</td>\n",
       "      <td>1.227165</td>\n",
       "      <td>...</td>\n",
       "      <td>-0.131946</td>\n",
       "      <td>-0.163415</td>\n",
       "      <td>-0.087099</td>\n",
       "      <td>-0.064216</td>\n",
       "      <td>0.823223</td>\n",
       "      <td>-0.114788</td>\n",
       "      <td>-0.253172</td>\n",
       "      <td>-0.07873</td>\n",
       "      <td>-0.600353</td>\n",
       "      <td>-0.242277</td>\n",
       "    </tr>\n",
       "    <tr>\n",
       "      <td>3</td>\n",
       "      <td>-0.096864</td>\n",
       "      <td>0.651256</td>\n",
       "      <td>-0.517023</td>\n",
       "      <td>-1.862993</td>\n",
       "      <td>0.383528</td>\n",
       "      <td>-0.521555</td>\n",
       "      <td>0.936955</td>\n",
       "      <td>0.383528</td>\n",
       "      <td>-1.025689</td>\n",
       "      <td>-0.761360</td>\n",
       "      <td>...</td>\n",
       "      <td>-0.131946</td>\n",
       "      <td>-0.163415</td>\n",
       "      <td>-0.087099</td>\n",
       "      <td>-0.064216</td>\n",
       "      <td>-1.213905</td>\n",
       "      <td>-0.114788</td>\n",
       "      <td>-0.253172</td>\n",
       "      <td>-0.07873</td>\n",
       "      <td>1.664545</td>\n",
       "      <td>-0.242277</td>\n",
       "    </tr>\n",
       "    <tr>\n",
       "      <td>4</td>\n",
       "      <td>0.375020</td>\n",
       "      <td>1.374324</td>\n",
       "      <td>-0.517023</td>\n",
       "      <td>0.951306</td>\n",
       "      <td>1.298881</td>\n",
       "      <td>-0.045596</td>\n",
       "      <td>1.617323</td>\n",
       "      <td>1.298881</td>\n",
       "      <td>0.789470</td>\n",
       "      <td>1.227165</td>\n",
       "      <td>...</td>\n",
       "      <td>-0.131946</td>\n",
       "      <td>-0.163415</td>\n",
       "      <td>-0.087099</td>\n",
       "      <td>-0.064216</td>\n",
       "      <td>0.823223</td>\n",
       "      <td>-0.114788</td>\n",
       "      <td>-0.253172</td>\n",
       "      <td>-0.07873</td>\n",
       "      <td>-0.600353</td>\n",
       "      <td>-0.242277</td>\n",
       "    </tr>\n",
       "  </tbody>\n",
       "</table>\n",
       "<p>5 rows × 65 columns</p>\n",
       "</div>"
      ],
      "text/plain": [
       "    LotArea  OverallQual  OverallCond  YearBuilt  GrLivArea  1stFlrSF  \\\n",
       "0 -0.207071     0.651256    -0.517023   1.050634   0.370207 -0.793162   \n",
       "1 -0.091855    -0.071812     2.178881   0.156680  -0.482347  0.257052   \n",
       "2  0.073455     0.651256    -0.517023   0.984415   0.514836 -0.627611   \n",
       "3 -0.096864     0.651256    -0.517023  -1.862993   0.383528 -0.521555   \n",
       "4  0.375020     1.374324    -0.517023   0.951306   1.298881 -0.045596   \n",
       "\n",
       "   2ndFlrSF  GrLivArea.1  FullBath  HalfBath  ...  Neighborhood_StoneBr  \\\n",
       "0  1.161454     0.370207  0.789470  1.227165  ...             -0.131946   \n",
       "1 -0.794891    -0.482347  0.789470 -0.761360  ...             -0.131946   \n",
       "2  1.188943     0.514836  0.789470  1.227165  ...             -0.131946   \n",
       "3  0.936955     0.383528 -1.025689 -0.761360  ...             -0.131946   \n",
       "4  1.617323     1.298881  0.789470  1.227165  ...             -0.131946   \n",
       "\n",
       "   Neighborhood_Timber  Neighborhood_Veenker  GarageType_2Types  \\\n",
       "0            -0.163415             -0.087099          -0.064216   \n",
       "1            -0.163415             11.473319          -0.064216   \n",
       "2            -0.163415             -0.087099          -0.064216   \n",
       "3            -0.163415             -0.087099          -0.064216   \n",
       "4            -0.163415             -0.087099          -0.064216   \n",
       "\n",
       "   GarageType_Attchd  GarageType_Basment  GarageType_BuiltIn  \\\n",
       "0           0.823223           -0.114788           -0.253172   \n",
       "1           0.823223           -0.114788           -0.253172   \n",
       "2           0.823223           -0.114788           -0.253172   \n",
       "3          -1.213905           -0.114788           -0.253172   \n",
       "4           0.823223           -0.114788           -0.253172   \n",
       "\n",
       "   GarageType_CarPort  GarageType_Detchd  GarageType_None  \n",
       "0            -0.07873          -0.600353        -0.242277  \n",
       "1            -0.07873          -0.600353        -0.242277  \n",
       "2            -0.07873          -0.600353        -0.242277  \n",
       "3            -0.07873           1.664545        -0.242277  \n",
       "4            -0.07873          -0.600353        -0.242277  \n",
       "\n",
       "[5 rows x 65 columns]"
      ]
     },
     "execution_count": 63,
     "metadata": {},
     "output_type": "execute_result"
    }
   ],
   "source": [
    "train.head()"
   ]
  },
  {
   "cell_type": "code",
   "execution_count": 64,
   "metadata": {},
   "outputs": [
    {
     "data": {
      "text/html": [
       "<div>\n",
       "<style scoped>\n",
       "    .dataframe tbody tr th:only-of-type {\n",
       "        vertical-align: middle;\n",
       "    }\n",
       "\n",
       "    .dataframe tbody tr th {\n",
       "        vertical-align: top;\n",
       "    }\n",
       "\n",
       "    .dataframe thead th {\n",
       "        text-align: right;\n",
       "    }\n",
       "</style>\n",
       "<table border=\"1\" class=\"dataframe\">\n",
       "  <thead>\n",
       "    <tr style=\"text-align: right;\">\n",
       "      <th></th>\n",
       "      <th>LotArea</th>\n",
       "      <th>OverallQual</th>\n",
       "      <th>OverallCond</th>\n",
       "      <th>YearBuilt</th>\n",
       "      <th>GrLivArea</th>\n",
       "      <th>1stFlrSF</th>\n",
       "      <th>2ndFlrSF</th>\n",
       "      <th>GrLivArea.1</th>\n",
       "      <th>FullBath</th>\n",
       "      <th>HalfBath</th>\n",
       "      <th>...</th>\n",
       "      <th>Neighborhood_StoneBr</th>\n",
       "      <th>Neighborhood_Timber</th>\n",
       "      <th>Neighborhood_Veenker</th>\n",
       "      <th>GarageType_2Types</th>\n",
       "      <th>GarageType_Attchd</th>\n",
       "      <th>GarageType_Basment</th>\n",
       "      <th>GarageType_BuiltIn</th>\n",
       "      <th>GarageType_CarPort</th>\n",
       "      <th>GarageType_Detchd</th>\n",
       "      <th>GarageType_None</th>\n",
       "    </tr>\n",
       "  </thead>\n",
       "  <tbody>\n",
       "    <tr>\n",
       "      <td>0</td>\n",
       "      <td>0.110725</td>\n",
       "      <td>-0.794879</td>\n",
       "      <td>0.381612</td>\n",
       "      <td>-0.339961</td>\n",
       "      <td>-1.178852</td>\n",
       "      <td>-0.689693</td>\n",
       "      <td>-0.794891</td>\n",
       "      <td>-1.178852</td>\n",
       "      <td>-1.025689</td>\n",
       "      <td>-0.761360</td>\n",
       "      <td>...</td>\n",
       "      <td>-0.131946</td>\n",
       "      <td>-0.163415</td>\n",
       "      <td>-0.087099</td>\n",
       "      <td>-0.064216</td>\n",
       "      <td>0.823223</td>\n",
       "      <td>-0.114788</td>\n",
       "      <td>-0.253172</td>\n",
       "      <td>-0.07873</td>\n",
       "      <td>-0.600353</td>\n",
       "      <td>-0.242277</td>\n",
       "    </tr>\n",
       "    <tr>\n",
       "      <td>1</td>\n",
       "      <td>0.375721</td>\n",
       "      <td>-0.071812</td>\n",
       "      <td>0.381612</td>\n",
       "      <td>-0.439289</td>\n",
       "      <td>-0.354844</td>\n",
       "      <td>0.430364</td>\n",
       "      <td>-0.794891</td>\n",
       "      <td>-0.354844</td>\n",
       "      <td>-1.025689</td>\n",
       "      <td>1.227165</td>\n",
       "      <td>...</td>\n",
       "      <td>-0.131946</td>\n",
       "      <td>-0.163415</td>\n",
       "      <td>-0.087099</td>\n",
       "      <td>-0.064216</td>\n",
       "      <td>0.823223</td>\n",
       "      <td>-0.114788</td>\n",
       "      <td>-0.253172</td>\n",
       "      <td>-0.07873</td>\n",
       "      <td>-0.600353</td>\n",
       "      <td>-0.242277</td>\n",
       "    </tr>\n",
       "    <tr>\n",
       "      <td>2</td>\n",
       "      <td>0.331939</td>\n",
       "      <td>-0.794879</td>\n",
       "      <td>-0.517023</td>\n",
       "      <td>0.851977</td>\n",
       "      <td>0.216062</td>\n",
       "      <td>-0.606917</td>\n",
       "      <td>0.810961</td>\n",
       "      <td>0.216062</td>\n",
       "      <td>0.789470</td>\n",
       "      <td>1.227165</td>\n",
       "      <td>...</td>\n",
       "      <td>-0.131946</td>\n",
       "      <td>-0.163415</td>\n",
       "      <td>-0.087099</td>\n",
       "      <td>-0.064216</td>\n",
       "      <td>0.823223</td>\n",
       "      <td>-0.114788</td>\n",
       "      <td>-0.253172</td>\n",
       "      <td>-0.07873</td>\n",
       "      <td>-0.600353</td>\n",
       "      <td>-0.242277</td>\n",
       "    </tr>\n",
       "    <tr>\n",
       "      <td>3</td>\n",
       "      <td>-0.053984</td>\n",
       "      <td>-0.071812</td>\n",
       "      <td>0.381612</td>\n",
       "      <td>0.885087</td>\n",
       "      <td>0.168486</td>\n",
       "      <td>-0.612091</td>\n",
       "      <td>0.758273</td>\n",
       "      <td>0.168486</td>\n",
       "      <td>0.789470</td>\n",
       "      <td>1.227165</td>\n",
       "      <td>...</td>\n",
       "      <td>-0.131946</td>\n",
       "      <td>-0.163415</td>\n",
       "      <td>-0.087099</td>\n",
       "      <td>-0.064216</td>\n",
       "      <td>0.823223</td>\n",
       "      <td>-0.114788</td>\n",
       "      <td>-0.253172</td>\n",
       "      <td>-0.07873</td>\n",
       "      <td>-0.600353</td>\n",
       "      <td>-0.242277</td>\n",
       "    </tr>\n",
       "    <tr>\n",
       "      <td>4</td>\n",
       "      <td>-0.552217</td>\n",
       "      <td>1.374324</td>\n",
       "      <td>-0.517023</td>\n",
       "      <td>0.686430</td>\n",
       "      <td>-0.448092</td>\n",
       "      <td>0.303614</td>\n",
       "      <td>-0.794891</td>\n",
       "      <td>-0.448092</td>\n",
       "      <td>0.789470</td>\n",
       "      <td>-0.761360</td>\n",
       "      <td>...</td>\n",
       "      <td>7.573684</td>\n",
       "      <td>-0.163415</td>\n",
       "      <td>-0.087099</td>\n",
       "      <td>-0.064216</td>\n",
       "      <td>0.823223</td>\n",
       "      <td>-0.114788</td>\n",
       "      <td>-0.253172</td>\n",
       "      <td>-0.07873</td>\n",
       "      <td>-0.600353</td>\n",
       "      <td>-0.242277</td>\n",
       "    </tr>\n",
       "  </tbody>\n",
       "</table>\n",
       "<p>5 rows × 65 columns</p>\n",
       "</div>"
      ],
      "text/plain": [
       "    LotArea  OverallQual  OverallCond  YearBuilt  GrLivArea  1stFlrSF  \\\n",
       "0  0.110725    -0.794879     0.381612  -0.339961  -1.178852 -0.689693   \n",
       "1  0.375721    -0.071812     0.381612  -0.439289  -0.354844  0.430364   \n",
       "2  0.331939    -0.794879    -0.517023   0.851977   0.216062 -0.606917   \n",
       "3 -0.053984    -0.071812     0.381612   0.885087   0.168486 -0.612091   \n",
       "4 -0.552217     1.374324    -0.517023   0.686430  -0.448092  0.303614   \n",
       "\n",
       "   2ndFlrSF  GrLivArea.1  FullBath  HalfBath  ...  Neighborhood_StoneBr  \\\n",
       "0 -0.794891    -1.178852 -1.025689 -0.761360  ...             -0.131946   \n",
       "1 -0.794891    -0.354844 -1.025689  1.227165  ...             -0.131946   \n",
       "2  0.810961     0.216062  0.789470  1.227165  ...             -0.131946   \n",
       "3  0.758273     0.168486  0.789470  1.227165  ...             -0.131946   \n",
       "4 -0.794891    -0.448092  0.789470 -0.761360  ...              7.573684   \n",
       "\n",
       "   Neighborhood_Timber  Neighborhood_Veenker  GarageType_2Types  \\\n",
       "0            -0.163415             -0.087099          -0.064216   \n",
       "1            -0.163415             -0.087099          -0.064216   \n",
       "2            -0.163415             -0.087099          -0.064216   \n",
       "3            -0.163415             -0.087099          -0.064216   \n",
       "4            -0.163415             -0.087099          -0.064216   \n",
       "\n",
       "   GarageType_Attchd  GarageType_Basment  GarageType_BuiltIn  \\\n",
       "0           0.823223           -0.114788           -0.253172   \n",
       "1           0.823223           -0.114788           -0.253172   \n",
       "2           0.823223           -0.114788           -0.253172   \n",
       "3           0.823223           -0.114788           -0.253172   \n",
       "4           0.823223           -0.114788           -0.253172   \n",
       "\n",
       "   GarageType_CarPort  GarageType_Detchd  GarageType_None  \n",
       "0            -0.07873          -0.600353        -0.242277  \n",
       "1            -0.07873          -0.600353        -0.242277  \n",
       "2            -0.07873          -0.600353        -0.242277  \n",
       "3            -0.07873          -0.600353        -0.242277  \n",
       "4            -0.07873          -0.600353        -0.242277  \n",
       "\n",
       "[5 rows x 65 columns]"
      ]
     },
     "execution_count": 64,
     "metadata": {},
     "output_type": "execute_result"
    }
   ],
   "source": [
    "test.head()"
   ]
  },
  {
   "cell_type": "code",
   "execution_count": 65,
   "metadata": {},
   "outputs": [
    {
     "data": {
      "text/plain": [
       "0    208500\n",
       "1    181500\n",
       "2    223500\n",
       "3    140000\n",
       "4    250000\n",
       "Name: SalePrice, dtype: int64"
      ]
     },
     "execution_count": 65,
     "metadata": {},
     "output_type": "execute_result"
    }
   ],
   "source": [
    "y.head()\n",
    "# The price column"
   ]
  },
  {
   "cell_type": "code",
   "execution_count": 66,
   "metadata": {},
   "outputs": [
    {
     "data": {
      "text/plain": [
       "array([0.8672403 , 0.82996498, 0.82988866, 0.82253077, 0.73647956])"
      ]
     },
     "execution_count": 66,
     "metadata": {},
     "output_type": "execute_result"
    }
   ],
   "source": [
    "from sklearn.model_selection import cross_val_score\n",
    "from sklearn.linear_model import LinearRegression\n",
    "lreg = LinearRegression()\n",
    "\n",
    "score5 = cross_val_score(estimator = lreg, X=train, y=y, cv=5)\n",
    "score5\n",
    "# Next step is to find the average of these"
   ]
  },
  {
   "cell_type": "code",
   "execution_count": 67,
   "metadata": {},
   "outputs": [
    {
     "data": {
      "text/plain": [
       "array([0.86982913, 0.86872385, 0.9003911 , 0.77416761, 0.82789523,\n",
       "       0.83483228, 0.81937268, 0.81978269, 0.6624736 , 0.8516228 ])"
      ]
     },
     "execution_count": 67,
     "metadata": {},
     "output_type": "execute_result"
    }
   ],
   "source": [
    "score10 = cross_val_score(estimator = lreg, X=train, y=y, cv=10)\n",
    "score10"
   ]
  },
  {
   "cell_type": "code",
   "execution_count": 68,
   "metadata": {},
   "outputs": [
    {
     "data": {
      "text/plain": [
       "array([0.89169963, 0.82401931, 0.8775956 , 0.86142945, 0.90050607,\n",
       "       0.90731896, 0.89265571, 0.81764196, 0.74547209, 0.79276343,\n",
       "       0.87300321, 0.80286869, 0.81504416, 0.82404595, 0.91093036,\n",
       "       0.7844823 , 0.87247875, 0.84910225, 0.76934199, 0.81469008,\n",
       "       0.74870848, 0.86497943, 0.11783365, 0.87003586, 0.87711515])"
      ]
     },
     "execution_count": 68,
     "metadata": {},
     "output_type": "execute_result"
    }
   ],
   "source": [
    "score25 = cross_val_score(estimator = lreg, X=train, y=y, cv=25)\n",
    "score25\n",
    "# 25 kept getting weirder and weirder and weirder\n",
    "# The more folds you do it keeps getting more bizarre\n",
    "# Note that we didn't shuffle this data, so you could find where this poorly performing section is just by working backwards"
   ]
  },
  {
   "cell_type": "code",
   "execution_count": 69,
   "metadata": {},
   "outputs": [
    {
     "data": {
      "image/png": "[encoded data removed]",
      "text/plain": [
       "<Figure size 432x288 with 1 Axes>"
      ]
     },
     "metadata": {
      "needs_background": "light"
     },
     "output_type": "display_data"
    }
   ],
   "source": [
    "# Typically you predict the log of the value\n",
    "y.hist();"
   ]
  },
  {
   "cell_type": "code",
   "execution_count": 70,
   "metadata": {},
   "outputs": [
    {
     "data": {
      "image/png": "[encoded data removed]",
      "text/plain": [
       "<Figure size 432x288 with 1 Axes>"
      ]
     },
     "metadata": {
      "needs_background": "light"
     },
     "output_type": "display_data"
    }
   ],
   "source": [
    "np.log(y).hist();\n",
    "# The standard to use for the log is base e\n",
    "# Look! So much more normal... more shifted towards the center\n",
    "# We haven't removed data. We've just transformed it"
   ]
  },
  {
   "cell_type": "code",
   "execution_count": 71,
   "metadata": {},
   "outputs": [
    {
     "data": {
      "text/plain": [
       "0       12.247694\n",
       "1       12.109011\n",
       "2       12.317167\n",
       "3       11.849398\n",
       "4       12.429216\n",
       "          ...    \n",
       "1455    12.072541\n",
       "1456    12.254863\n",
       "1457    12.493130\n",
       "1458    11.864462\n",
       "1459    11.901583\n",
       "Name: SalePrice, Length: 1460, dtype: float64"
      ]
     },
     "execution_count": 71,
     "metadata": {},
     "output_type": "execute_result"
    }
   ],
   "source": [
    "np.log(y)\n",
    "# Look, all the data is now clustered from 8-15"
   ]
  },
  {
   "cell_type": "code",
   "execution_count": 72,
   "metadata": {},
   "outputs": [],
   "source": [
    "# Validation score shows you how well your data might perform on future tests"
   ]
  },
  {
   "cell_type": "code",
   "execution_count": 73,
   "metadata": {},
   "outputs": [
    {
     "data": {
      "text/plain": [
       "array([0.89159938, 0.86974623, 0.86771567, 0.88475619, 0.81133514])"
      ]
     },
     "execution_count": 73,
     "metadata": {},
     "output_type": "execute_result"
    }
   ],
   "source": [
    "logscore5 = cross_val_score(estimator = lreg, X=train, y=np.log(y), cv=5)\n",
    "logscore5\n",
    "# As you can see the validation scores went up"
   ]
  },
  {
   "cell_type": "code",
   "execution_count": 74,
   "metadata": {},
   "outputs": [
    {
     "data": {
      "text/plain": [
       "array([0.87494457, 0.91248789, 0.91318322, 0.82665437, 0.86653407,\n",
       "       0.86560208, 0.87514989, 0.89140115, 0.72402368, 0.87889273])"
      ]
     },
     "execution_count": 74,
     "metadata": {},
     "output_type": "execute_result"
    }
   ],
   "source": [
    "logscore10 = cross_val_score(estimator = lreg, X=train, y=np.log(y), cv=10)\n",
    "logscore10"
   ]
  },
  {
   "cell_type": "code",
   "execution_count": 75,
   "metadata": {},
   "outputs": [
    {
     "data": {
      "text/plain": [
       "array([0.89273217, 0.82487421, 0.87089501, 0.92455111, 0.91879721,\n",
       "       0.93534047, 0.89062686, 0.84985786, 0.80091612, 0.83426898,\n",
       "       0.88258371, 0.88987547, 0.82842515, 0.88515121, 0.85208963,\n",
       "       0.90505006, 0.8209322 , 0.91926817, 0.87839645, 0.8844243 ,\n",
       "       0.87759048, 0.91078812, 0.4918549 , 0.91308156, 0.86349057])"
      ]
     },
     "execution_count": 75,
     "metadata": {},
     "output_type": "execute_result"
    }
   ],
   "source": [
    "logscore25 = cross_val_score(estimator = lreg, X=train, y=np.log(y), cv=25)\n",
    "logscore25\n",
    "#.11 to .49 is a pretty big difference!\n",
    "# The amount that one irregular result swayed the data went down\n",
    "# This is way predicting the LOG of the price rather than the price itself is better!\n",
    "# It's less impacted by outliers."
   ]
  },
  {
   "cell_type": "markdown",
   "metadata": {},
   "source": [
    "### Question 2: Updating Your Model With Ridge & Lasso Regression\n",
    "\n",
    "Instead of using Linear Regression, import `Ridge` or `Lasso`, and use cross validation to find the ideal value of alpha.  \n",
    "\n",
    "Some basic tips:\n",
    "\n",
    "For values of alpha try this:  `alphas = np.logspace(-4, 4, 9)`\n",
    "Then write a `for-loop` that generically goes like this:\n",
    "\n",
    "`for value in alphas:\n",
    "    1). set value of alpha to current value using set_params() method\n",
    "    2). pass in instance of Ridge or Lasso into cross_val_score\n",
    "    3). using a tuple, append the average of all results from step 2 into a list, along with the value of alpha`\n",
    "    \n",
    "When you're finished, you should have a list that has 9 tuples inside it, each one with the average cross validation score as well as the value of alpha associated with it."
   ]
  },
  {
   "cell_type": "code",
   "execution_count": 76,
   "metadata": {},
   "outputs": [],
   "source": [
    "from sklearn.linear_model import Ridge, Lasso\n",
    "ridge, lasso = Ridge(), Lasso()\n",
    "import numpy as np"
   ]
  },
  {
   "cell_type": "code",
   "execution_count": 86,
   "metadata": {},
   "outputs": [
    {
     "data": {
      "text/plain": [
       "[(0.8231208680621425, 0.0001),\n",
       " (0.8231208680621425, 0.0001),\n",
       " (0.8231208680621425, 0.0001),\n",
       " (0.8231208680621425, 0.0001),\n",
       " (0.8231208680621425, 0.0001),\n",
       " (0.8231208680621425, 0.0001),\n",
       " (0.8231208680621425, 0.0001),\n",
       " (0.8231208680621425, 0.0001),\n",
       " (0.8231208680621425, 0.0001)]"
      ]
     },
     "execution_count": 86,
     "metadata": {},
     "output_type": "execute_result"
    }
   ],
   "source": [
    "alphas = np.logspace(-4, -4, 9)\n",
    "\n",
    "cv_scores = []\n",
    "\n",
    "for alpha in alphas:\n",
    "    lasso.set_params(alpha = alpha)\n",
    "    scores = cross_val_score(estimator = lasso, X=train, y=np.log(y), cv=10)\n",
    "    cv_scores.append((np.mean(scores), alpha))\n",
    "    \n",
    "cv_scores"
   ]
  },
  {
   "cell_type": "markdown",
   "metadata": {},
   "source": [
    "**Bonus:** In Scikit-Learn cross validation is sometimes built into algorithms automatically.  Luckily this is the case with `Ridge` and `Lasso`.  If you're inclined to take a look at the `RidgeCV` and `LassoCV` methods, you can basically combine what we just did into one step.\n",
    "\n",
    "**Note:** These aren't always available, and they don't always work in the same way, so remember that they won't always be an option.\n",
    "\n",
    "**RidgeCV:** https://scikit-learn.org/stable/modules/generated/sklearn.linear_model.RidgeCV.html\n",
    "**LassoCV:** https://scikit-learn.org/stable/modules/generated/sklearn.linear_model.LassoCV.html"
   ]
  },
  {
   "cell_type": "markdown",
   "metadata": {},
   "source": [
    "### Step 3: Building A Pipeline\n",
    "\n",
    "Let's try building some pipelines to test out different versions of our models more easily.  \n",
    "\n",
    "For this one, we are going to start fresh a little bit to get the hang of using our pipelines, and to go through the entire process.\n",
    "\n",
    "So......"
   ]
  },
  {
   "cell_type": "markdown",
   "metadata": {},
   "source": [
    "**a)** Reload the training and test sets\n",
    "\n",
    " - create a new variable for `y`, and set it equal to the log of `SalePrice`\n",
    " - create a variable for the `id` column in the test set -- this will be reused later"
   ]
  },
  {
   "cell_type": "code",
   "execution_count": 78,
   "metadata": {},
   "outputs": [],
   "source": [
    "# your answer here"
   ]
  },
  {
   "cell_type": "markdown",
   "metadata": {},
   "source": [
    "**b)** Fill in the missing data on training & test\n",
    "\n",
    "**Note:** If you feel like you have a good handle on this, you can just copy and paste from your previous solutions or the lab manual.  \n",
    "\n",
    "If you have the time and think you need extra practice, feel free to try and re-create the results on your own.....just be mindful of time."
   ]
  },
  {
   "cell_type": "code",
   "execution_count": 79,
   "metadata": {},
   "outputs": [],
   "source": [
    "# your answer here"
   ]
  },
  {
   "cell_type": "markdown",
   "metadata": {},
   "source": [
    "**c)** Reclassify the `MSSubClass` column as a string"
   ]
  },
  {
   "cell_type": "code",
   "execution_count": 80,
   "metadata": {},
   "outputs": [],
   "source": [
    "# your answer here"
   ]
  },
  {
   "cell_type": "markdown",
   "metadata": {},
   "source": [
    "**d)** Create Your Pipeline!\n",
    "\n",
    "\n",
    "a). Initialize instances for each of the following items:\n",
    "\n",
    " - An ordinal encoder for the `GarageFinish` column (be careful about the mapping dictionary here)\n",
    " - A categorical encoder for your nominal columns\n",
    " - The standard scaler\n",
    " - Lasso or Ridge regression, with the cross validated value of alpha from the previous exercise"
   ]
  },
  {
   "cell_type": "code",
   "execution_count": 81,
   "metadata": {},
   "outputs": [],
   "source": [
    "# your answer here"
   ]
  },
  {
   "cell_type": "markdown",
   "metadata": {},
   "source": [
    "**e)** Fit the pipeline on your training set, and predict the values on your test set\n",
    "\n",
    " - to get the \"real\" values of your prediction you would use the function `np.exp()`\n",
    " \n",
    "ie, if `pipe.predict(test)` gives you the predicted log values of your test set, then `np.exp(pipe.predict(test))` would give you the actual expected housing prices."
   ]
  },
  {
   "cell_type": "code",
   "execution_count": 82,
   "metadata": {},
   "outputs": [],
   "source": [
    "# your answer here"
   ]
  }
 ],
 "metadata": {
  "kernelspec": {
   "display_name": "Python 3",
   "language": "python",
   "name": "python3"
  },
  "language_info": {
   "codemirror_mode": {
    "name": "ipython",
    "version": 3
   },
   "file_extension": ".py",
   "mimetype": "text/x-python",
   "name": "python",
   "nbconvert_exporter": "python",
   "pygments_lexer": "ipython3",
   "version": "3.7.4"
  }
 },
 "nbformat": 4,
 "nbformat_minor": 4
}
