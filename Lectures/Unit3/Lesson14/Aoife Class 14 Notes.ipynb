{
 "cells": [
  {
   "cell_type": "code",
   "execution_count": 134,
   "metadata": {},
   "outputs": [],
   "source": [
    "import pandas as pd\n",
    "import numpy as np\n"
   ]
  },
  {
   "cell_type": "code",
   "execution_count": 135,
   "metadata": {},
   "outputs": [],
   "source": [
    "df = pd.read_csv('/Users/aoifeduna/AoifeRepo/aoiferepo/Lectures/Unit3/data/housing.csv')"
   ]
  },
  {
   "cell_type": "code",
   "execution_count": 136,
   "metadata": {},
   "outputs": [],
   "source": [
    "from sklearn.model_selection import train_test_split, cross_val_score\n",
    "from sklearn.linear_model import LinearRegression"
   ]
  },
  {
   "cell_type": "code",
   "execution_count": 137,
   "metadata": {},
   "outputs": [],
   "source": [
    "lreg = LinearRegression()\n",
    "X = df.drop('PRICE', axis=1)\n",
    "y = df['PRICE']\n",
    "\n",
    "X_train, X_test, y_train, y_test = train_test_split(X, y, test_size=0.2, random_state=2020)"
   ]
  },
  {
   "cell_type": "code",
   "execution_count": 138,
   "metadata": {},
   "outputs": [
    {
     "data": {
      "text/plain": [
       "array([0.49945536, 0.62090992, 0.68073943, 0.66394911, 0.3934969 ,\n",
       "       0.72625023, 0.77370567, 0.79414459, 0.83785026, 0.78381453])"
      ]
     },
     "execution_count": 138,
     "metadata": {},
     "output_type": "execute_result"
    }
   ],
   "source": [
    "cross_val_score(estimator=lreg, X=X_train, y=y_train, cv=10)\n",
    "# Estimator - whatever the algorithm that you initialize\n",
    "# Any sort of predictor. Doesn't have to be from scikitlearn\n",
    "# This will ALWAYS be called on your training set\n",
    "# You don't cross-validate your test set\n",
    "# CV is an interesting argument; how many folds you're going to use. Typically this is 10\n"
   ]
  },
  {
   "cell_type": "code",
   "execution_count": 139,
   "metadata": {},
   "outputs": [],
   "source": [
    "# Validation score is a proxy for how you're going to do on future results"
   ]
  },
  {
   "cell_type": "code",
   "execution_count": 140,
   "metadata": {},
   "outputs": [
    {
     "data": {
      "text/plain": [
       "LinearRegression(copy_X=True, fit_intercept=True, n_jobs=None, normalize=False)"
      ]
     },
     "execution_count": 140,
     "metadata": {},
     "output_type": "execute_result"
    }
   ],
   "source": [
    "lreg.fit(X_train, y_train)"
   ]
  },
  {
   "cell_type": "code",
   "execution_count": 141,
   "metadata": {},
   "outputs": [
    {
     "data": {
      "text/plain": [
       "array([-1.06957244e-01,  4.45558546e-02,  2.37053116e-02,  2.23742166e+00,\n",
       "       -1.68583938e+01,  3.87986730e+00,  5.46111202e-05, -1.37954394e+00,\n",
       "        3.04718275e-01, -1.21659387e-02, -9.14169249e-01,  9.14771590e-03,\n",
       "       -5.27828497e-01])"
      ]
     },
     "execution_count": 141,
     "metadata": {},
     "output_type": "execute_result"
    }
   ],
   "source": [
    "lreg.coef_"
   ]
  },
  {
   "cell_type": "code",
   "execution_count": 142,
   "metadata": {},
   "outputs": [
    {
     "data": {
      "text/plain": [
       "215    0.354143\n",
       "191    0.036086\n",
       "107   -0.393596\n",
       "442   -0.591241\n",
       "230   -0.212520\n",
       "         ...   \n",
       "195    9.118376\n",
       "118    0.076777\n",
       "323   -1.133564\n",
       "392   -0.280273\n",
       "352    1.134491\n",
       "Name: PRICE, Length: 404, dtype: float64"
      ]
     },
     "execution_count": 142,
     "metadata": {},
     "output_type": "execute_result"
    }
   ],
   "source": [
    "y_train - lreg.predict(X_train)"
   ]
  },
  {
   "cell_type": "code",
   "execution_count": 143,
   "metadata": {},
   "outputs": [
    {
     "data": {
      "text/plain": [
       "9089.097809228135"
      ]
     },
     "execution_count": 143,
     "metadata": {},
     "output_type": "execute_result"
    }
   ],
   "source": [
    "np.sum((y_train - lreg.predict(X_train))**2)"
   ]
  },
  {
   "cell_type": "code",
   "execution_count": 144,
   "metadata": {},
   "outputs": [
    {
     "data": {
      "text/plain": [
       "26.298529417494624"
      ]
     },
     "execution_count": 144,
     "metadata": {},
     "output_type": "execute_result"
    }
   ],
   "source": [
    "np.abs(lreg.coef_).sum()\n",
    "# This is the L1 penalty"
   ]
  },
  {
   "cell_type": "code",
   "execution_count": 145,
   "metadata": {},
   "outputs": [
    {
     "data": {
      "text/plain": [
       "307.38938992837956"
      ]
     },
     "execution_count": 145,
     "metadata": {},
     "output_type": "execute_result"
    }
   ],
   "source": [
    "(lreg.coef_**2).sum()\n",
    "# This is the L2 penalty"
   ]
  },
  {
   "cell_type": "code",
   "execution_count": 146,
   "metadata": {},
   "outputs": [],
   "source": [
    "alpha = 1000"
   ]
  },
  {
   "cell_type": "code",
   "execution_count": 147,
   "metadata": {},
   "outputs": [
    {
     "data": {
      "text/plain": [
       "307389.38992837956"
      ]
     },
     "execution_count": 147,
     "metadata": {},
     "output_type": "execute_result"
    }
   ],
   "source": [
    "alpha*(lreg.coef_**2).sum()\n",
    "# With the value of alpha, this coefficient outweighs another"
   ]
  },
  {
   "cell_type": "code",
   "execution_count": 148,
   "metadata": {},
   "outputs": [
    {
     "data": {
      "text/plain": [
       "6.25"
      ]
     },
     "execution_count": 148,
     "metadata": {},
     "output_type": "execute_result"
    }
   ],
   "source": [
    "2.5**2"
   ]
  },
  {
   "cell_type": "code",
   "execution_count": 149,
   "metadata": {},
   "outputs": [
    {
     "data": {
      "text/plain": [
       "6.0"
      ]
     },
     "execution_count": 149,
     "metadata": {},
     "output_type": "execute_result"
    }
   ],
   "source": [
    "3.5**2-2.5**2\n",
    "# Six times larger"
   ]
  },
  {
   "cell_type": "code",
   "execution_count": 150,
   "metadata": {},
   "outputs": [
    {
     "ename": "TypeError",
     "evalue": "'int' object is not callable",
     "output_type": "error",
     "traceback": [
      "\u001b[0;31m---------------------------------------------------------------------------\u001b[0m",
      "\u001b[0;31mTypeError\u001b[0m                                 Traceback (most recent call last)",
      "\u001b[0;32m<ipython-input-150-9d6587b9568d>\u001b[0m in \u001b[0;36m<module>\u001b[0;34m\u001b[0m\n\u001b[0;32m----> 1\u001b[0;31m \u001b[0;36m100\u001b[0m\u001b[0;34m(\u001b[0m\u001b[0;34m(\u001b[0m\u001b[0;36m3.5\u001b[0m\u001b[0;34m**\u001b[0m\u001b[0;36m2\u001b[0m\u001b[0;34m)\u001b[0m\u001b[0;34m-\u001b[0m\u001b[0;34m(\u001b[0m\u001b[0;36m2.5\u001b[0m\u001b[0;34m**\u001b[0m\u001b[0;36m2\u001b[0m\u001b[0;34m)\u001b[0m\u001b[0;34m)\u001b[0m\u001b[0;34m\u001b[0m\u001b[0;34m\u001b[0m\u001b[0m\n\u001b[0m\u001b[1;32m      2\u001b[0m \u001b[0;31m# The way regularization works is that increasing the coefficient from 2.5 to 3.5\u001b[0m\u001b[0;34m\u001b[0m\u001b[0;34m\u001b[0m\u001b[0;34m\u001b[0m\u001b[0m\n\u001b[1;32m      3\u001b[0m \u001b[0;31m# would have to reduce the number by 600 in order to have an impact\u001b[0m\u001b[0;34m\u001b[0m\u001b[0;34m\u001b[0m\u001b[0;34m\u001b[0m\u001b[0m\n",
      "\u001b[0;31mTypeError\u001b[0m: 'int' object is not callable"
     ]
    }
   ],
   "source": [
    "100((3.5**2)-(2.5**2))\n",
    "# The way regularization works is that increasing the coefficient from 2.5 to 3.5\n",
    "# would have to reduce the number by 600 in order to have an impact"
   ]
  },
  {
   "cell_type": "code",
   "execution_count": 151,
   "metadata": {},
   "outputs": [],
   "source": [
    "# The bigger the value of alpha, the stronger improvements you have to make in order for the coefficient to grow bigger\n",
    "# The larger of alpha, the bigger the improvement you have to see in your model to justify the coefficient\n"
   ]
  },
  {
   "cell_type": "code",
   "execution_count": 152,
   "metadata": {},
   "outputs": [
    {
     "data": {
      "text/plain": [
       "3073893.8992837956"
      ]
     },
     "execution_count": 152,
     "metadata": {},
     "output_type": "execute_result"
    }
   ],
   "source": [
    "alpha = 10000\n",
    "alpha*(lreg.coef_**2).sum()\n",
    "# The larger the value of alpha is, the bigger the penalty is for increasing the size of your weights\n",
    "# If alpha were extremely large, what's the easiest way to reduce the cost of your model\n",
    "# The larger alpha gets, where do your coefficients naturally trend towards? 0.\n",
    "# If your model is overfitting, your coefficients are artificially high"
   ]
  },
  {
   "cell_type": "code",
   "execution_count": 153,
   "metadata": {},
   "outputs": [],
   "source": [
    "from sklearn.linear_model import Ridge, Lasso"
   ]
  },
  {
   "cell_type": "code",
   "execution_count": 154,
   "metadata": {},
   "outputs": [],
   "source": [
    "ridge, lasso = Ridge(), Lasso()"
   ]
  },
  {
   "cell_type": "code",
   "execution_count": 155,
   "metadata": {},
   "outputs": [
    {
     "data": {
      "text/plain": [
       "Ridge(alpha=1.0, copy_X=True, fit_intercept=True, max_iter=None,\n",
       "      normalize=False, random_state=None, solver='auto', tol=0.001)"
      ]
     },
     "execution_count": 155,
     "metadata": {},
     "output_type": "execute_result"
    }
   ],
   "source": [
    "ridge"
   ]
  },
  {
   "cell_type": "code",
   "execution_count": 156,
   "metadata": {},
   "outputs": [],
   "source": [
    "ridge.alpha=10000"
   ]
  },
  {
   "cell_type": "code",
   "execution_count": 157,
   "metadata": {},
   "outputs": [
    {
     "data": {
      "text/plain": [
       "Ridge(alpha=10000, copy_X=True, fit_intercept=True, max_iter=None,\n",
       "      normalize=False, random_state=None, solver='auto', tol=0.001)"
      ]
     },
     "execution_count": 157,
     "metadata": {},
     "output_type": "execute_result"
    }
   ],
   "source": [
    "ridge.fit(X_train, y_train)"
   ]
  },
  {
   "cell_type": "code",
   "execution_count": 158,
   "metadata": {},
   "outputs": [
    {
     "data": {
      "text/plain": [
       "array([-7.05534222e-02,  5.74457939e-02, -5.59530041e-02,  1.09558337e-02,\n",
       "       -4.21703719e-04,  8.85516842e-02,  2.06349886e-02, -8.96007975e-02,\n",
       "        1.19815324e-01, -1.37115961e-02, -1.43617695e-01,  8.35050952e-03,\n",
       "       -4.74676136e-01])"
      ]
     },
     "execution_count": 158,
     "metadata": {},
     "output_type": "execute_result"
    }
   ],
   "source": [
    "ridge.coef_\n",
    "# The bigger you make alpha the smaller the numbers become\n",
    "# None of these are exactly 0 though"
   ]
  },
  {
   "cell_type": "code",
   "execution_count": 159,
   "metadata": {},
   "outputs": [
    {
     "data": {
      "text/plain": [
       "Lasso(alpha=1.0, copy_X=True, fit_intercept=True, max_iter=1000,\n",
       "      normalize=False, positive=False, precompute=False, random_state=None,\n",
       "      selection='cyclic', tol=0.0001, warm_start=False)"
      ]
     },
     "execution_count": 159,
     "metadata": {},
     "output_type": "execute_result"
    }
   ],
   "source": [
    "lasso.fit(X_train, y_train)"
   ]
  },
  {
   "cell_type": "code",
   "execution_count": 160,
   "metadata": {},
   "outputs": [
    {
     "data": {
      "text/plain": [
       "array([-0.06092354,  0.04545304, -0.        ,  0.        , -0.        ,\n",
       "        1.05001025,  0.02287044, -0.56125924,  0.25591408, -0.01475951,\n",
       "       -0.69776051,  0.00842163, -0.76068136])"
      ]
     },
     "execution_count": 160,
     "metadata": {},
     "output_type": "execute_result"
    }
   ],
   "source": [
    "lasso.coef_\n",
    "# There are 0s!\n",
    "# And they've also gotten smaller"
   ]
  },
  {
   "cell_type": "code",
   "execution_count": 162,
   "metadata": {},
   "outputs": [
    {
     "data": {
      "text/plain": [
       "array([1000., 1000., 1000., 1000., 1000., 1000., 1000.])"
      ]
     },
     "execution_count": 162,
     "metadata": {},
     "output_type": "execute_result"
    }
   ],
   "source": [
    "np.logspace(3,3,7)"
   ]
  },
  {
   "cell_type": "code",
   "execution_count": 163,
   "metadata": {},
   "outputs": [],
   "source": [
    "import numpy as np\n",
    "alphas = np.logspace(-3,3,7)\n",
    "#Start at ten to the negative three, got to ten to the third, and have seven increments"
   ]
  },
  {
   "cell_type": "code",
   "execution_count": 164,
   "metadata": {},
   "outputs": [],
   "source": [
    "cv_scores = []\n",
    "\n",
    "for alpha in alphas:\n",
    "    ridge.set_params(alpha = alpha)\n",
    "    # For the value you in the list, set alpha equal to that number\n",
    "    scores = cross_val_score(estimator=ridge, X=X_train, y=y_train, cv=10)\n",
    "    cv_scores.append((np.mean(scores), alpha))"
   ]
  },
  {
   "cell_type": "code",
   "execution_count": 165,
   "metadata": {},
   "outputs": [
    {
     "data": {
      "text/plain": [
       "[(0.6774302782216554, 0.001),\n",
       " (0.677417648176563, 0.01),\n",
       " (0.6772318822455186, 0.1),\n",
       " (0.6743371883099584, 1.0),\n",
       " (0.6710963929835836, 10.0),\n",
       " (0.6677077597248793, 100.0),\n",
       " (0.6276714474010422, 1000.0)]"
      ]
     },
     "execution_count": 165,
     "metadata": {},
     "output_type": "execute_result"
    }
   ],
   "source": [
    "cv_scores\n",
    "# These are our corresponding validation scores\n",
    "# The difference is fairly miniscule"
   ]
  },
  {
   "cell_type": "code",
   "execution_count": 166,
   "metadata": {},
   "outputs": [
    {
     "data": {
      "text/plain": [
       "(0.6774302782216554, 0.001)"
      ]
     },
     "execution_count": 166,
     "metadata": {},
     "output_type": "execute_result"
    }
   ],
   "source": [
    "max(cv_scores)\n",
    "# The ideal value of alpha is 0.001\n",
    "# This means we're just pretty close to linear regression\n",
    "# With data sets that have weird values, higher scores of value produce higher results"
   ]
  },
  {
   "cell_type": "code",
   "execution_count": 168,
   "metadata": {},
   "outputs": [],
   "source": [
    "from sklearn.preprocessing import StandardScaler\n",
    "# Subtracting from the mean, standardizing... this does it for you automatically\n",
    "\n",
    "sc = StandardScaler()"
   ]
  },
  {
   "cell_type": "code",
   "execution_count": 172,
   "metadata": {},
   "outputs": [
    {
     "data": {
      "text/plain": [
       "array([[-0.41174958, -0.48041482, -0.07436025, ...,  0.08173983,\n",
       "         0.37599244, -0.44009701],\n",
       "       [-0.42850904,  1.46175584, -1.10728653, ..., -1.47767444,\n",
       "         0.32970292, -1.11493712],\n",
       "       [-0.42044068, -0.48041482, -0.36762464, ...,  1.13663771,\n",
       "         0.30584965,  0.21215431],\n",
       "       ...,\n",
       "       [-0.40058181, -0.48041482, -0.53809359, ...,  0.54039108,\n",
       "         0.34647107, -0.11961855],\n",
       "       [ 1.06773675, -0.48041482,  1.01057351, ...,  0.81558184,\n",
       "         0.41460641,  1.84842981],\n",
       "       [-0.42807611,  2.10914606, -1.36010066, ..., -0.05585555,\n",
       "         0.36064133, -0.67727931]])"
      ]
     },
     "execution_count": 172,
     "metadata": {},
     "output_type": "execute_result"
    }
   ],
   "source": [
    "sc.fit_transform(X_train)\n",
    "# The fit means we're storing the average and the standard deviation values of the training set"
   ]
  },
  {
   "cell_type": "code",
   "execution_count": 174,
   "metadata": {},
   "outputs": [
    {
     "data": {
      "text/plain": [
       "array([[ 1.43961437, -0.48041482,  1.01057351, ...,  0.81558184,\n",
       "        -2.15422575,  1.01546817],\n",
       "       [-0.41193809,  0.46909083, -0.75768071, ...,  0.31106546,\n",
       "         0.16946089, -0.34409465],\n",
       "       [ 0.85174637, -0.48041482,  1.01057351, ...,  0.81558184,\n",
       "        -0.27902787,  2.45409175],\n",
       "       ...,\n",
       "       [-0.41070171,  0.46909083, -0.75768071, ...,  0.31106546,\n",
       "         0.12635968, -0.01232179],\n",
       "       [ 3.28801671, -0.48041482,  1.01057351, ...,  0.81558184,\n",
       "        -1.78095746,  1.05782215],\n",
       "       [-0.43156555, -0.48041482,  0.40237496, ..., -0.92729293,\n",
       "         0.36619135,  0.13026995]])"
      ]
     },
     "execution_count": 174,
     "metadata": {},
     "output_type": "execute_result"
    }
   ],
   "source": [
    "sc.transform(X_test)\n",
    "# The transform method scales off of the saved values in the X_train sc\n",
    "# As part of the pre-processing module you have a built in way of doing this\n",
    "# Transforming the test set based off the training set"
   ]
  },
  {
   "cell_type": "code",
   "execution_count": 177,
   "metadata": {},
   "outputs": [],
   "source": [
    "from sklearn.pipeline import make_pipeline\n",
    "\n",
    "pipe = make_pipeline(sc, ridge)\n",
    "# You can take one of your models and make them the very last step in your pipeline"
   ]
  },
  {
   "cell_type": "code",
   "execution_count": 178,
   "metadata": {},
   "outputs": [
    {
     "data": {
      "text/plain": [
       "Pipeline(memory=None,\n",
       "         steps=[('standardscaler',\n",
       "                 StandardScaler(copy=True, with_mean=True, with_std=True)),\n",
       "                ('ridge',\n",
       "                 Ridge(alpha=1000.0, copy_X=True, fit_intercept=True,\n",
       "                       max_iter=None, normalize=False, random_state=None,\n",
       "                       solver='auto', tol=0.001))],\n",
       "         verbose=False)"
      ]
     },
     "execution_count": 178,
     "metadata": {},
     "output_type": "execute_result"
    }
   ],
   "source": [
    "pipe.fit(X_train, y_train)\n",
    "# You're not just fitting ridge, you're fitting all this stuff"
   ]
  },
  {
   "cell_type": "code",
   "execution_count": 180,
   "metadata": {},
   "outputs": [
    {
     "data": {
      "text/plain": [
       "array([18.61264065, 23.89790735, 15.82072225, 28.75573419, 24.58108404,\n",
       "       21.64373018, 25.77068315, 20.98322869, 17.58047018, 26.54314078,\n",
       "       26.44676788, 18.5774517 , 24.03534795, 29.14314292, 17.03786231,\n",
       "       22.40026083, 16.51113464, 24.27901034, 24.33089874, 20.40845662,\n",
       "       20.0796294 , 27.94456949, 21.51710373, 26.56935474, 13.47772384,\n",
       "       13.55908443, 24.76264396, 17.52142434, 27.26478773, 16.04421386,\n",
       "       24.35386863, 26.65069337,  8.93148912, 23.99402339, 21.56455087,\n",
       "       21.27218598, 22.69843435, 26.01496891, 20.6671905 , 19.93064201,\n",
       "       24.21619577, 22.95094889, 18.48129859, 28.73518767, 23.5413658 ,\n",
       "       20.55739241, 25.69356749, 17.02217011, 24.79941937, 28.51961884,\n",
       "       27.91167077, 26.80403418, 21.51148124, 17.70720884, 21.04360456,\n",
       "       20.38147824, 26.75038983, 16.77632644, 14.98816647, 26.99365064,\n",
       "       26.16070614, 22.6521418 , 24.98754039, 31.35443201, 29.0090383 ,\n",
       "       25.23111745, 20.87503055, 13.22944049, 16.59776031, 22.50549782,\n",
       "       24.7230932 , 24.54194909, 26.62645713, 21.54041567, 23.11131124,\n",
       "       23.7852146 , 19.48965406, 27.56967454, 25.96765974, 23.54496783,\n",
       "       22.66613452, 16.33129174, 26.83493187, 28.74040237, 28.90360043,\n",
       "       18.49164991, 20.50889805, 21.87290388, 27.38707636, 18.42247257,\n",
       "       18.35033175, 20.96873974, 23.8554389 , 20.41679016, 23.21054368,\n",
       "       24.70182075, 16.53315504, 32.43037419, 21.1503009 , 22.33291908,\n",
       "       14.77004267, 24.36669265])"
      ]
     },
     "execution_count": 180,
     "metadata": {},
     "output_type": "execute_result"
    }
   ],
   "source": [
    "pipe.predict(X_test)\n",
    "# All of the preprocessing steps will be performed here\n",
    "# A lot of the data encoding that you use can be encapsulated into a single function call\n",
    "# Where your job ends is with having a deployable pipeline that someone else can use"
   ]
  },
  {
   "cell_type": "code",
   "execution_count": null,
   "metadata": {},
   "outputs": [],
   "source": []
  }
 ],
 "metadata": {
  "kernelspec": {
   "display_name": "Python 3",
   "language": "python",
   "name": "python3"
  },
  "language_info": {
   "codemirror_mode": {
    "name": "ipython",
    "version": 3
   },
   "file_extension": ".py",
   "mimetype": "text/x-python",
   "name": "python",
   "nbconvert_exporter": "python",
   "pygments_lexer": "ipython3",
   "version": "3.7.4"
  }
 },
 "nbformat": 4,
 "nbformat_minor": 2
}
