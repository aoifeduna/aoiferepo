{
 "cells": [
  {
   "cell_type": "markdown",
   "metadata": {},
   "source": [
    "### Lab:  Grid Search & Hyperparameter Tuning\n",
    "\n",
    "Welcome!  Today's lab is going to allow us to blend together a number of the concepts covered in Unit 3 into one cohesive whole\n",
    "\n",
    " - Random Forests\n",
    " - Hyperparameter tuning models with a Grid Search\n",
    " - Using custom loss functions to keep track of how you're doing"
   ]
  },
  {
   "cell_type": "markdown",
   "metadata": {},
   "source": [
    "#### Step 1a:  Load in the training and the test set"
   ]
  },
  {
   "cell_type": "code",
   "execution_count": 66,
   "metadata": {},
   "outputs": [],
   "source": [
    "import pandas as pd\n",
    "import numpy as np\n",
    "\n",
    "train = pd.read_csv('/Users/aoifeduna/Documents/GitHub/aoiferepo/Lectures/Unit4/data/iowa_housing/train.csv')\n",
    "test  = pd.read_csv('/Users/aoifeduna/Documents/GitHub/aoiferepo/Lectures/Unit4/data/iowa_housing/test.csv')\n"
   ]
  },
  {
   "cell_type": "markdown",
   "metadata": {},
   "source": [
    "#### Step 1b: Create the `y` variable for `SalePrice`, remove it from the training set, and drop the indexes for both datasets.  Take the log of `SalePrice`."
   ]
  },
  {
   "cell_type": "code",
   "execution_count": 67,
   "metadata": {},
   "outputs": [],
   "source": [
    "y = np.log(train['SalePrice'])\n",
    "train.drop('SalePrice', axis=1, inplace=True)\n",
    "test_id = test['Id']\n",
    "train.drop('Id', axis=1, inplace=True)\n",
    "test.drop('Id', axis=1, inplace=True)"
   ]
  },
  {
   "cell_type": "code",
   "execution_count": 68,
   "metadata": {},
   "outputs": [
    {
     "data": {
      "text/html": [
       "<div>\n",
       "<style scoped>\n",
       "    .dataframe tbody tr th:only-of-type {\n",
       "        vertical-align: middle;\n",
       "    }\n",
       "\n",
       "    .dataframe tbody tr th {\n",
       "        vertical-align: top;\n",
       "    }\n",
       "\n",
       "    .dataframe thead th {\n",
       "        text-align: right;\n",
       "    }\n",
       "</style>\n",
       "<table border=\"1\" class=\"dataframe\">\n",
       "  <thead>\n",
       "    <tr style=\"text-align: right;\">\n",
       "      <th></th>\n",
       "      <th>MSSubClass</th>\n",
       "      <th>MSZoning</th>\n",
       "      <th>LotArea</th>\n",
       "      <th>Neighborhood</th>\n",
       "      <th>OverallQual</th>\n",
       "      <th>OverallCond</th>\n",
       "      <th>YearBuilt</th>\n",
       "      <th>GrLivArea</th>\n",
       "      <th>1stFlrSF</th>\n",
       "      <th>2ndFlrSF</th>\n",
       "      <th>GrLivArea.1</th>\n",
       "      <th>FullBath</th>\n",
       "      <th>HalfBath</th>\n",
       "      <th>GarageType</th>\n",
       "      <th>GarageYrBlt</th>\n",
       "      <th>GarageFinish</th>\n",
       "      <th>GarageCars</th>\n",
       "    </tr>\n",
       "  </thead>\n",
       "  <tbody>\n",
       "    <tr>\n",
       "      <td>0</td>\n",
       "      <td>60</td>\n",
       "      <td>RL</td>\n",
       "      <td>8450</td>\n",
       "      <td>CollgCr</td>\n",
       "      <td>7</td>\n",
       "      <td>5</td>\n",
       "      <td>2003</td>\n",
       "      <td>1710</td>\n",
       "      <td>856</td>\n",
       "      <td>854</td>\n",
       "      <td>1710</td>\n",
       "      <td>2</td>\n",
       "      <td>1</td>\n",
       "      <td>Attchd</td>\n",
       "      <td>2003.0</td>\n",
       "      <td>RFn</td>\n",
       "      <td>2</td>\n",
       "    </tr>\n",
       "    <tr>\n",
       "      <td>1</td>\n",
       "      <td>20</td>\n",
       "      <td>RL</td>\n",
       "      <td>9600</td>\n",
       "      <td>Veenker</td>\n",
       "      <td>6</td>\n",
       "      <td>8</td>\n",
       "      <td>1976</td>\n",
       "      <td>1262</td>\n",
       "      <td>1262</td>\n",
       "      <td>0</td>\n",
       "      <td>1262</td>\n",
       "      <td>2</td>\n",
       "      <td>0</td>\n",
       "      <td>Attchd</td>\n",
       "      <td>1976.0</td>\n",
       "      <td>RFn</td>\n",
       "      <td>2</td>\n",
       "    </tr>\n",
       "    <tr>\n",
       "      <td>2</td>\n",
       "      <td>60</td>\n",
       "      <td>RL</td>\n",
       "      <td>11250</td>\n",
       "      <td>CollgCr</td>\n",
       "      <td>7</td>\n",
       "      <td>5</td>\n",
       "      <td>2001</td>\n",
       "      <td>1786</td>\n",
       "      <td>920</td>\n",
       "      <td>866</td>\n",
       "      <td>1786</td>\n",
       "      <td>2</td>\n",
       "      <td>1</td>\n",
       "      <td>Attchd</td>\n",
       "      <td>2001.0</td>\n",
       "      <td>RFn</td>\n",
       "      <td>2</td>\n",
       "    </tr>\n",
       "    <tr>\n",
       "      <td>3</td>\n",
       "      <td>70</td>\n",
       "      <td>RL</td>\n",
       "      <td>9550</td>\n",
       "      <td>Crawfor</td>\n",
       "      <td>7</td>\n",
       "      <td>5</td>\n",
       "      <td>1915</td>\n",
       "      <td>1717</td>\n",
       "      <td>961</td>\n",
       "      <td>756</td>\n",
       "      <td>1717</td>\n",
       "      <td>1</td>\n",
       "      <td>0</td>\n",
       "      <td>Detchd</td>\n",
       "      <td>1998.0</td>\n",
       "      <td>Unf</td>\n",
       "      <td>3</td>\n",
       "    </tr>\n",
       "    <tr>\n",
       "      <td>4</td>\n",
       "      <td>60</td>\n",
       "      <td>RL</td>\n",
       "      <td>14260</td>\n",
       "      <td>NoRidge</td>\n",
       "      <td>8</td>\n",
       "      <td>5</td>\n",
       "      <td>2000</td>\n",
       "      <td>2198</td>\n",
       "      <td>1145</td>\n",
       "      <td>1053</td>\n",
       "      <td>2198</td>\n",
       "      <td>2</td>\n",
       "      <td>1</td>\n",
       "      <td>Attchd</td>\n",
       "      <td>2000.0</td>\n",
       "      <td>RFn</td>\n",
       "      <td>3</td>\n",
       "    </tr>\n",
       "  </tbody>\n",
       "</table>\n",
       "</div>"
      ],
      "text/plain": [
       "   MSSubClass MSZoning  LotArea Neighborhood  OverallQual  OverallCond  \\\n",
       "0          60       RL     8450      CollgCr            7            5   \n",
       "1          20       RL     9600      Veenker            6            8   \n",
       "2          60       RL    11250      CollgCr            7            5   \n",
       "3          70       RL     9550      Crawfor            7            5   \n",
       "4          60       RL    14260      NoRidge            8            5   \n",
       "\n",
       "   YearBuilt  GrLivArea  1stFlrSF  2ndFlrSF  GrLivArea.1  FullBath  HalfBath  \\\n",
       "0       2003       1710       856       854         1710         2         1   \n",
       "1       1976       1262      1262         0         1262         2         0   \n",
       "2       2001       1786       920       866         1786         2         1   \n",
       "3       1915       1717       961       756         1717         1         0   \n",
       "4       2000       2198      1145      1053         2198         2         1   \n",
       "\n",
       "  GarageType  GarageYrBlt GarageFinish  GarageCars  \n",
       "0     Attchd       2003.0          RFn           2  \n",
       "1     Attchd       1976.0          RFn           2  \n",
       "2     Attchd       2001.0          RFn           2  \n",
       "3     Detchd       1998.0          Unf           3  \n",
       "4     Attchd       2000.0          RFn           3  "
      ]
     },
     "execution_count": 68,
     "metadata": {},
     "output_type": "execute_result"
    }
   ],
   "source": [
    "train.head()"
   ]
  },
  {
   "cell_type": "markdown",
   "metadata": {},
   "source": [
    "#### Step 2: Fill in the missing values (Completed For You)\n",
    "\n",
    "Just so you can see how it works, all the code is listed here.  It is using the variables `train` and `test` to refer to the training and test sets you loaded in.  If these are something different, then you'll need to re-run things appropriately."
   ]
  },
  {
   "cell_type": "code",
   "execution_count": 69,
   "metadata": {},
   "outputs": [],
   "source": [
    "# just run this code\n",
    "train_empty = train.loc[:, train.isnull().sum() > 0]\n",
    "# grab the columns\n",
    "cols = train_empty.columns.tolist()\n",
    "# fill with the appropriate value  -- NA, Other, could also work\n",
    "train[['GarageType', 'GarageFinish']] = train[['GarageType', 'GarageFinish']].fillna('None')\n",
    "test[['GarageType', 'GarageFinish']]  = test[['GarageType', 'GarageFinish']].fillna('None')\n",
    "\n",
    "# we'll use this for GarageYrBlt since it's a numeric column\n",
    "train['GarageYrBlt'].fillna(0, inplace=True)\n",
    "test['GarageYrBlt'].fillna(0, inplace=True)\n",
    "\n",
    "# finding the values to use in the training set\n",
    "ms_mode   = train['MSZoning'].mode()[0]\n",
    "gcarsmean = train['GarageCars'].mean()\n",
    "\n",
    "# and applying them to the test set\n",
    "test['MSZoning'].fillna(ms_mode, inplace=True)\n",
    "test['GarageCars'].fillna(gcarsmean, inplace=True)"
   ]
  },
  {
   "cell_type": "markdown",
   "metadata": {},
   "source": [
    "#### Step 3: Make A Pipeline For a Random Forest\n",
    "\n",
    "Use the following steps:\n",
    "\n",
    "  - OrdinalEncoder\n",
    "  - OneHotEncoder\n",
    "  - RandomForest\n",
    "  \n",
    "**Note:** Do you understand why we're not scaling our data?"
   ]
  },
  {
   "cell_type": "code",
   "execution_count": 70,
   "metadata": {},
   "outputs": [],
   "source": [
    "from sklearn.pipeline import make_pipeline\n",
    "from category_encoders import OneHotEncoder, OrdinalEncoder\n",
    "from sklearn.ensemble import RandomForestRegressor\n",
    "\n",
    "\n",
    "rf = RandomForestRegressor()\n",
    "ore   = OrdinalEncoder()\n",
    "ohe   = OneHotEncoder()\n",
    "\n",
    "rf_pipe = make_pipeline(ore, ohe, rf)"
   ]
  },
  {
   "cell_type": "markdown",
   "metadata": {},
   "source": [
    "**Step 4:** Import `mean_squared_error` and `make_scorer` from the metrics module, and turn it into a loss function that can be used in cross validation.\n",
    "\n",
    "**Hint:** Set the argument `greater_is_better` to `False` for the `make_scorer` function."
   ]
  },
  {
   "cell_type": "code",
   "execution_count": 71,
   "metadata": {},
   "outputs": [],
   "source": [
    "from sklearn.metrics import mean_squared_error, make_scorer\n",
    "loss_function = make_scorer(mean_squared_error, greater_is_better=False)"
   ]
  },
  {
   "cell_type": "markdown",
   "metadata": {},
   "source": [
    "#### Step 5: Setup Your Grid Search\n",
    "\n",
    "Do the following:\n",
    "\n",
    " - Create a dictionary of values to test the following parameters:\n",
    "   - `min_samples_leaf`: 1, 5, 10, 25\n",
    "   - `max_features`: 0.3, 0.4, 0.5, 0.6, 0.7, 0.8\n",
    "   - `n_estimators`: 10, 50, 100\n",
    " - Initialize an instance of GridSearchCV with 5 folds, and the loss function from step 4"
   ]
  },
  {
   "cell_type": "code",
   "execution_count": 72,
   "metadata": {},
   "outputs": [],
   "source": [
    "from sklearn.model_selection import GridSearchCV"
   ]
  },
  {
   "cell_type": "code",
   "execution_count": 73,
   "metadata": {},
   "outputs": [],
   "source": [
    "params = {\n",
    "    'randomforestregressor__min_samples_leaf': [1, 5, 10, 25],\n",
    "    'randomforestregressor__max_features': [0.3, 0.4, 0.5, 0.6, 0.7, 0.8],\n",
    "    'randomforestregressor__n_estimators': [10, 50, 100]\n",
    "}"
   ]
  },
  {
   "cell_type": "code",
   "execution_count": 74,
   "metadata": {},
   "outputs": [],
   "source": [
    "grid = GridSearchCV(estimator=rf_pipe, param_grid=params, scoring=loss_function, cv=5)"
   ]
  },
  {
   "cell_type": "markdown",
   "metadata": {},
   "source": [
    "**Step 6:** Fit your grid on the pipeline you created in step 3."
   ]
  },
  {
   "cell_type": "code",
   "execution_count": 75,
   "metadata": {},
   "outputs": [
    {
     "data": {
      "text/plain": [
       "GridSearchCV(cv=5, error_score='raise-deprecating',\n",
       "             estimator=Pipeline(memory=None,\n",
       "                                steps=[('ordinalencoder',\n",
       "                                        OrdinalEncoder(cols=None,\n",
       "                                                       drop_invariant=False,\n",
       "                                                       handle_missing='value',\n",
       "                                                       handle_unknown='value',\n",
       "                                                       mapping=None,\n",
       "                                                       return_df=True,\n",
       "                                                       verbose=0)),\n",
       "                                       ('onehotencoder',\n",
       "                                        OneHotEncoder(cols=None,\n",
       "                                                      drop_invariant=False,\n",
       "                                                      handle_missing='value',\n",
       "                                                      handle_unknown='value',\n",
       "                                                      retu...\n",
       "                                verbose=False),\n",
       "             iid='warn', n_jobs=None,\n",
       "             param_grid={'randomforestregressor__max_features': [0.3, 0.4, 0.5,\n",
       "                                                                 0.6, 0.7,\n",
       "                                                                 0.8],\n",
       "                         'randomforestregressor__min_samples_leaf': [1, 5, 10,\n",
       "                                                                     25],\n",
       "                         'randomforestregressor__n_estimators': [10, 50, 100]},\n",
       "             pre_dispatch='2*n_jobs', refit=True, return_train_score=False,\n",
       "             scoring=make_scorer(mean_squared_error, greater_is_better=False),\n",
       "             verbose=0)"
      ]
     },
     "execution_count": 75,
     "metadata": {},
     "output_type": "execute_result"
    }
   ],
   "source": [
    "grid.fit(train, y)"
   ]
  },
  {
   "cell_type": "markdown",
   "metadata": {},
   "source": [
    "**Step 7:** What combination gave you the best results?"
   ]
  },
  {
   "cell_type": "code",
   "execution_count": 76,
   "metadata": {},
   "outputs": [
    {
     "data": {
      "text/plain": [
       "{'randomforestregressor__max_features': 0.4,\n",
       " 'randomforestregressor__min_samples_leaf': 1,\n",
       " 'randomforestregressor__n_estimators': 50}"
      ]
     },
     "execution_count": 76,
     "metadata": {},
     "output_type": "execute_result"
    }
   ],
   "source": [
    "grid.best_params_"
   ]
  },
  {
   "cell_type": "markdown",
   "metadata": {},
   "source": [
    "#### Bonus"
   ]
  },
  {
   "cell_type": "markdown",
   "metadata": {},
   "source": [
    "**B1: Among the parameters that you searched for, which ones had the strongest assocation with better validation scores?** "
   ]
  },
  {
   "cell_type": "code",
   "execution_count": 77,
   "metadata": {},
   "outputs": [],
   "source": [
    "grid_results = pd.DataFrame(grid.cv_results_)"
   ]
  },
  {
   "cell_type": "code",
   "execution_count": 78,
   "metadata": {},
   "outputs": [
    {
     "data": {
      "text/html": [
       "<div>\n",
       "<style scoped>\n",
       "    .dataframe tbody tr th:only-of-type {\n",
       "        vertical-align: middle;\n",
       "    }\n",
       "\n",
       "    .dataframe tbody tr th {\n",
       "        vertical-align: top;\n",
       "    }\n",
       "\n",
       "    .dataframe thead th {\n",
       "        text-align: right;\n",
       "    }\n",
       "</style>\n",
       "<table border=\"1\" class=\"dataframe\">\n",
       "  <thead>\n",
       "    <tr style=\"text-align: right;\">\n",
       "      <th></th>\n",
       "      <th>mean_fit_time</th>\n",
       "      <th>std_fit_time</th>\n",
       "      <th>mean_score_time</th>\n",
       "      <th>std_score_time</th>\n",
       "      <th>param_randomforestregressor__max_features</th>\n",
       "      <th>param_randomforestregressor__min_samples_leaf</th>\n",
       "      <th>param_randomforestregressor__n_estimators</th>\n",
       "      <th>params</th>\n",
       "      <th>split0_test_score</th>\n",
       "      <th>split1_test_score</th>\n",
       "      <th>split2_test_score</th>\n",
       "      <th>split3_test_score</th>\n",
       "      <th>split4_test_score</th>\n",
       "      <th>mean_test_score</th>\n",
       "      <th>std_test_score</th>\n",
       "      <th>rank_test_score</th>\n",
       "    </tr>\n",
       "  </thead>\n",
       "  <tbody>\n",
       "    <tr>\n",
       "      <td>13</td>\n",
       "      <td>0.156301</td>\n",
       "      <td>0.001753</td>\n",
       "      <td>0.009498</td>\n",
       "      <td>0.000419</td>\n",
       "      <td>0.4</td>\n",
       "      <td>1</td>\n",
       "      <td>50</td>\n",
       "      <td>{'randomforestregressor__max_features': 0.4, '...</td>\n",
       "      <td>-0.019466</td>\n",
       "      <td>-0.023654</td>\n",
       "      <td>-0.022196</td>\n",
       "      <td>-0.018172</td>\n",
       "      <td>-0.021513</td>\n",
       "      <td>-0.021000</td>\n",
       "      <td>0.001954</td>\n",
       "      <td>1</td>\n",
       "    </tr>\n",
       "    <tr>\n",
       "      <td>14</td>\n",
       "      <td>0.295475</td>\n",
       "      <td>0.001608</td>\n",
       "      <td>0.013222</td>\n",
       "      <td>0.000358</td>\n",
       "      <td>0.4</td>\n",
       "      <td>1</td>\n",
       "      <td>100</td>\n",
       "      <td>{'randomforestregressor__max_features': 0.4, '...</td>\n",
       "      <td>-0.019887</td>\n",
       "      <td>-0.024392</td>\n",
       "      <td>-0.022357</td>\n",
       "      <td>-0.018130</td>\n",
       "      <td>-0.020926</td>\n",
       "      <td>-0.021138</td>\n",
       "      <td>0.002132</td>\n",
       "      <td>2</td>\n",
       "    </tr>\n",
       "    <tr>\n",
       "      <td>2</td>\n",
       "      <td>0.274133</td>\n",
       "      <td>0.006556</td>\n",
       "      <td>0.013393</td>\n",
       "      <td>0.000684</td>\n",
       "      <td>0.3</td>\n",
       "      <td>1</td>\n",
       "      <td>100</td>\n",
       "      <td>{'randomforestregressor__max_features': 0.3, '...</td>\n",
       "      <td>-0.018760</td>\n",
       "      <td>-0.023940</td>\n",
       "      <td>-0.023309</td>\n",
       "      <td>-0.018957</td>\n",
       "      <td>-0.020837</td>\n",
       "      <td>-0.021160</td>\n",
       "      <td>0.002148</td>\n",
       "      <td>3</td>\n",
       "    </tr>\n",
       "    <tr>\n",
       "      <td>26</td>\n",
       "      <td>0.348284</td>\n",
       "      <td>0.005227</td>\n",
       "      <td>0.013493</td>\n",
       "      <td>0.000364</td>\n",
       "      <td>0.5</td>\n",
       "      <td>1</td>\n",
       "      <td>100</td>\n",
       "      <td>{'randomforestregressor__max_features': 0.5, '...</td>\n",
       "      <td>-0.019057</td>\n",
       "      <td>-0.025007</td>\n",
       "      <td>-0.022827</td>\n",
       "      <td>-0.018356</td>\n",
       "      <td>-0.021851</td>\n",
       "      <td>-0.021420</td>\n",
       "      <td>0.002450</td>\n",
       "      <td>4</td>\n",
       "    </tr>\n",
       "    <tr>\n",
       "      <td>1</td>\n",
       "      <td>0.143777</td>\n",
       "      <td>0.001576</td>\n",
       "      <td>0.009262</td>\n",
       "      <td>0.000235</td>\n",
       "      <td>0.3</td>\n",
       "      <td>1</td>\n",
       "      <td>50</td>\n",
       "      <td>{'randomforestregressor__max_features': 0.3, '...</td>\n",
       "      <td>-0.018701</td>\n",
       "      <td>-0.025352</td>\n",
       "      <td>-0.023640</td>\n",
       "      <td>-0.018668</td>\n",
       "      <td>-0.021696</td>\n",
       "      <td>-0.021611</td>\n",
       "      <td>0.002655</td>\n",
       "      <td>5</td>\n",
       "    </tr>\n",
       "    <tr>\n",
       "      <td>...</td>\n",
       "      <td>...</td>\n",
       "      <td>...</td>\n",
       "      <td>...</td>\n",
       "      <td>...</td>\n",
       "      <td>...</td>\n",
       "      <td>...</td>\n",
       "      <td>...</td>\n",
       "      <td>...</td>\n",
       "      <td>...</td>\n",
       "      <td>...</td>\n",
       "      <td>...</td>\n",
       "      <td>...</td>\n",
       "      <td>...</td>\n",
       "      <td>...</td>\n",
       "      <td>...</td>\n",
       "      <td>...</td>\n",
       "    </tr>\n",
       "    <tr>\n",
       "      <td>33</td>\n",
       "      <td>0.037274</td>\n",
       "      <td>0.003268</td>\n",
       "      <td>0.005936</td>\n",
       "      <td>0.000664</td>\n",
       "      <td>0.5</td>\n",
       "      <td>25</td>\n",
       "      <td>10</td>\n",
       "      <td>{'randomforestregressor__max_features': 0.5, '...</td>\n",
       "      <td>-0.027612</td>\n",
       "      <td>-0.032649</td>\n",
       "      <td>-0.029978</td>\n",
       "      <td>-0.029672</td>\n",
       "      <td>-0.030437</td>\n",
       "      <td>-0.030070</td>\n",
       "      <td>0.001612</td>\n",
       "      <td>68</td>\n",
       "    </tr>\n",
       "    <tr>\n",
       "      <td>45</td>\n",
       "      <td>0.037845</td>\n",
       "      <td>0.001512</td>\n",
       "      <td>0.005692</td>\n",
       "      <td>0.000202</td>\n",
       "      <td>0.6</td>\n",
       "      <td>25</td>\n",
       "      <td>10</td>\n",
       "      <td>{'randomforestregressor__max_features': 0.6, '...</td>\n",
       "      <td>-0.026727</td>\n",
       "      <td>-0.030186</td>\n",
       "      <td>-0.033881</td>\n",
       "      <td>-0.029711</td>\n",
       "      <td>-0.031427</td>\n",
       "      <td>-0.030386</td>\n",
       "      <td>0.002331</td>\n",
       "      <td>69</td>\n",
       "    </tr>\n",
       "    <tr>\n",
       "      <td>69</td>\n",
       "      <td>0.045948</td>\n",
       "      <td>0.002772</td>\n",
       "      <td>0.007111</td>\n",
       "      <td>0.001630</td>\n",
       "      <td>0.8</td>\n",
       "      <td>25</td>\n",
       "      <td>10</td>\n",
       "      <td>{'randomforestregressor__max_features': 0.8, '...</td>\n",
       "      <td>-0.029035</td>\n",
       "      <td>-0.032193</td>\n",
       "      <td>-0.033583</td>\n",
       "      <td>-0.030141</td>\n",
       "      <td>-0.030923</td>\n",
       "      <td>-0.031175</td>\n",
       "      <td>0.001584</td>\n",
       "      <td>70</td>\n",
       "    </tr>\n",
       "    <tr>\n",
       "      <td>9</td>\n",
       "      <td>0.034162</td>\n",
       "      <td>0.002151</td>\n",
       "      <td>0.006417</td>\n",
       "      <td>0.001055</td>\n",
       "      <td>0.3</td>\n",
       "      <td>25</td>\n",
       "      <td>10</td>\n",
       "      <td>{'randomforestregressor__max_features': 0.3, '...</td>\n",
       "      <td>-0.026880</td>\n",
       "      <td>-0.033319</td>\n",
       "      <td>-0.034348</td>\n",
       "      <td>-0.029816</td>\n",
       "      <td>-0.031577</td>\n",
       "      <td>-0.031188</td>\n",
       "      <td>0.002650</td>\n",
       "      <td>71</td>\n",
       "    </tr>\n",
       "    <tr>\n",
       "      <td>21</td>\n",
       "      <td>0.034179</td>\n",
       "      <td>0.001682</td>\n",
       "      <td>0.005698</td>\n",
       "      <td>0.000416</td>\n",
       "      <td>0.4</td>\n",
       "      <td>25</td>\n",
       "      <td>10</td>\n",
       "      <td>{'randomforestregressor__max_features': 0.4, '...</td>\n",
       "      <td>-0.029333</td>\n",
       "      <td>-0.031441</td>\n",
       "      <td>-0.033405</td>\n",
       "      <td>-0.030637</td>\n",
       "      <td>-0.031875</td>\n",
       "      <td>-0.031338</td>\n",
       "      <td>0.001348</td>\n",
       "      <td>72</td>\n",
       "    </tr>\n",
       "  </tbody>\n",
       "</table>\n",
       "<p>72 rows × 16 columns</p>\n",
       "</div>"
      ],
      "text/plain": [
       "    mean_fit_time  std_fit_time  mean_score_time  std_score_time  \\\n",
       "13       0.156301      0.001753         0.009498        0.000419   \n",
       "14       0.295475      0.001608         0.013222        0.000358   \n",
       "2        0.274133      0.006556         0.013393        0.000684   \n",
       "26       0.348284      0.005227         0.013493        0.000364   \n",
       "1        0.143777      0.001576         0.009262        0.000235   \n",
       "..            ...           ...              ...             ...   \n",
       "33       0.037274      0.003268         0.005936        0.000664   \n",
       "45       0.037845      0.001512         0.005692        0.000202   \n",
       "69       0.045948      0.002772         0.007111        0.001630   \n",
       "9        0.034162      0.002151         0.006417        0.001055   \n",
       "21       0.034179      0.001682         0.005698        0.000416   \n",
       "\n",
       "   param_randomforestregressor__max_features  \\\n",
       "13                                       0.4   \n",
       "14                                       0.4   \n",
       "2                                        0.3   \n",
       "26                                       0.5   \n",
       "1                                        0.3   \n",
       "..                                       ...   \n",
       "33                                       0.5   \n",
       "45                                       0.6   \n",
       "69                                       0.8   \n",
       "9                                        0.3   \n",
       "21                                       0.4   \n",
       "\n",
       "   param_randomforestregressor__min_samples_leaf  \\\n",
       "13                                             1   \n",
       "14                                             1   \n",
       "2                                              1   \n",
       "26                                             1   \n",
       "1                                              1   \n",
       "..                                           ...   \n",
       "33                                            25   \n",
       "45                                            25   \n",
       "69                                            25   \n",
       "9                                             25   \n",
       "21                                            25   \n",
       "\n",
       "   param_randomforestregressor__n_estimators  \\\n",
       "13                                        50   \n",
       "14                                       100   \n",
       "2                                        100   \n",
       "26                                       100   \n",
       "1                                         50   \n",
       "..                                       ...   \n",
       "33                                        10   \n",
       "45                                        10   \n",
       "69                                        10   \n",
       "9                                         10   \n",
       "21                                        10   \n",
       "\n",
       "                                               params  split0_test_score  \\\n",
       "13  {'randomforestregressor__max_features': 0.4, '...          -0.019466   \n",
       "14  {'randomforestregressor__max_features': 0.4, '...          -0.019887   \n",
       "2   {'randomforestregressor__max_features': 0.3, '...          -0.018760   \n",
       "26  {'randomforestregressor__max_features': 0.5, '...          -0.019057   \n",
       "1   {'randomforestregressor__max_features': 0.3, '...          -0.018701   \n",
       "..                                                ...                ...   \n",
       "33  {'randomforestregressor__max_features': 0.5, '...          -0.027612   \n",
       "45  {'randomforestregressor__max_features': 0.6, '...          -0.026727   \n",
       "69  {'randomforestregressor__max_features': 0.8, '...          -0.029035   \n",
       "9   {'randomforestregressor__max_features': 0.3, '...          -0.026880   \n",
       "21  {'randomforestregressor__max_features': 0.4, '...          -0.029333   \n",
       "\n",
       "    split1_test_score  split2_test_score  split3_test_score  \\\n",
       "13          -0.023654          -0.022196          -0.018172   \n",
       "14          -0.024392          -0.022357          -0.018130   \n",
       "2           -0.023940          -0.023309          -0.018957   \n",
       "26          -0.025007          -0.022827          -0.018356   \n",
       "1           -0.025352          -0.023640          -0.018668   \n",
       "..                ...                ...                ...   \n",
       "33          -0.032649          -0.029978          -0.029672   \n",
       "45          -0.030186          -0.033881          -0.029711   \n",
       "69          -0.032193          -0.033583          -0.030141   \n",
       "9           -0.033319          -0.034348          -0.029816   \n",
       "21          -0.031441          -0.033405          -0.030637   \n",
       "\n",
       "    split4_test_score  mean_test_score  std_test_score  rank_test_score  \n",
       "13          -0.021513        -0.021000        0.001954                1  \n",
       "14          -0.020926        -0.021138        0.002132                2  \n",
       "2           -0.020837        -0.021160        0.002148                3  \n",
       "26          -0.021851        -0.021420        0.002450                4  \n",
       "1           -0.021696        -0.021611        0.002655                5  \n",
       "..                ...              ...             ...              ...  \n",
       "33          -0.030437        -0.030070        0.001612               68  \n",
       "45          -0.031427        -0.030386        0.002331               69  \n",
       "69          -0.030923        -0.031175        0.001584               70  \n",
       "9           -0.031577        -0.031188        0.002650               71  \n",
       "21          -0.031875        -0.031338        0.001348               72  \n",
       "\n",
       "[72 rows x 16 columns]"
      ]
     },
     "execution_count": 78,
     "metadata": {},
     "output_type": "execute_result"
    }
   ],
   "source": [
    "grid_results.sort_values(by='rank_test_score')"
   ]
  },
  {
   "cell_type": "code",
   "execution_count": 79,
   "metadata": {},
   "outputs": [
    {
     "data": {
      "text/plain": [
       "param_randomforestregressor__n_estimators\n",
       "10    -0.026447\n",
       "50    -0.024967\n",
       "100   -0.024689\n",
       "Name: mean_test_score, dtype: float64"
      ]
     },
     "execution_count": 79,
     "metadata": {},
     "output_type": "execute_result"
    }
   ],
   "source": [
    "grid_results.groupby('param_randomforestregressor__n_estimators')['mean_test_score'].mean()\n",
    "# More trees gives a better score"
   ]
  },
  {
   "cell_type": "code",
   "execution_count": 80,
   "metadata": {},
   "outputs": [
    {
     "data": {
      "text/plain": [
       "param_randomforestregressor__max_features\n",
       "0.3   -0.025561\n",
       "0.4   -0.025403\n",
       "0.5   -0.025240\n",
       "0.6   -0.025255\n",
       "0.7   -0.025281\n",
       "0.8   -0.025464\n",
       "Name: mean_test_score, dtype: float64"
      ]
     },
     "execution_count": 80,
     "metadata": {},
     "output_type": "execute_result"
    }
   ],
   "source": [
    "grid_results.groupby('param_randomforestregressor__max_features')['mean_test_score'].mean()\n",
    "# No big changes here"
   ]
  },
  {
   "cell_type": "code",
   "execution_count": 81,
   "metadata": {},
   "outputs": [
    {
     "data": {
      "text/plain": [
       "param_randomforestregressor__min_samples_leaf\n",
       "1    -0.022483\n",
       "5    -0.023745\n",
       "10   -0.025319\n",
       "25   -0.029923\n",
       "Name: mean_test_score, dtype: float64"
      ]
     },
     "execution_count": 81,
     "metadata": {},
     "output_type": "execute_result"
    }
   ],
   "source": [
    "grid_results.groupby('param_randomforestregressor__min_samples_leaf')['mean_test_score'].mean()\n",
    "# Fewer samples did better"
   ]
  },
  {
   "cell_type": "markdown",
   "metadata": {},
   "source": [
    "**B2: What were the 5 most important variables in impacting your housing price?**"
   ]
  },
  {
   "cell_type": "code",
   "execution_count": 84,
   "metadata": {},
   "outputs": [
    {
     "ename": "NotFittedError",
     "evalue": "This RandomForestRegressor instance is not fitted yet. Call 'fit' with appropriate arguments before using this method.",
     "output_type": "error",
     "traceback": [
      "\u001b[0;31m---------------------------------------------------------------------------\u001b[0m",
      "\u001b[0;31mNotFittedError\u001b[0m                            Traceback (most recent call last)",
      "\u001b[0;32m<ipython-input-84-4ddb7d49263b>\u001b[0m in \u001b[0;36m<module>\u001b[0;34m\u001b[0m\n\u001b[0;32m----> 1\u001b[0;31m \u001b[0mrf_pipe\u001b[0m\u001b[0;34m.\u001b[0m\u001b[0msteps\u001b[0m\u001b[0;34m[\u001b[0m\u001b[0;34m-\u001b[0m\u001b[0;36m1\u001b[0m\u001b[0;34m]\u001b[0m\u001b[0;34m[\u001b[0m\u001b[0;36m1\u001b[0m\u001b[0;34m]\u001b[0m\u001b[0;34m.\u001b[0m\u001b[0mfeature_importances_\u001b[0m\u001b[0;34m\u001b[0m\u001b[0;34m\u001b[0m\u001b[0m\n\u001b[0m",
      "\u001b[0;32m/opt/anaconda3/lib/python3.7/site-packages/sklearn/ensemble/forest.py\u001b[0m in \u001b[0;36mfeature_importances_\u001b[0;34m(self)\u001b[0m\n\u001b[1;32m    371\u001b[0m             \u001b[0marray\u001b[0m \u001b[0mof\u001b[0m \u001b[0mzeros\u001b[0m\u001b[0;34m.\u001b[0m\u001b[0;34m\u001b[0m\u001b[0;34m\u001b[0m\u001b[0m\n\u001b[1;32m    372\u001b[0m         \"\"\"\n\u001b[0;32m--> 373\u001b[0;31m         \u001b[0mcheck_is_fitted\u001b[0m\u001b[0;34m(\u001b[0m\u001b[0mself\u001b[0m\u001b[0;34m,\u001b[0m \u001b[0;34m'estimators_'\u001b[0m\u001b[0;34m)\u001b[0m\u001b[0;34m\u001b[0m\u001b[0;34m\u001b[0m\u001b[0m\n\u001b[0m\u001b[1;32m    374\u001b[0m \u001b[0;34m\u001b[0m\u001b[0m\n\u001b[1;32m    375\u001b[0m         all_importances = Parallel(n_jobs=self.n_jobs,\n",
      "\u001b[0;32m/opt/anaconda3/lib/python3.7/site-packages/sklearn/utils/validation.py\u001b[0m in \u001b[0;36mcheck_is_fitted\u001b[0;34m(estimator, attributes, msg, all_or_any)\u001b[0m\n\u001b[1;32m    912\u001b[0m \u001b[0;34m\u001b[0m\u001b[0m\n\u001b[1;32m    913\u001b[0m     \u001b[0;32mif\u001b[0m \u001b[0;32mnot\u001b[0m \u001b[0mall_or_any\u001b[0m\u001b[0;34m(\u001b[0m\u001b[0;34m[\u001b[0m\u001b[0mhasattr\u001b[0m\u001b[0;34m(\u001b[0m\u001b[0mestimator\u001b[0m\u001b[0;34m,\u001b[0m \u001b[0mattr\u001b[0m\u001b[0;34m)\u001b[0m \u001b[0;32mfor\u001b[0m \u001b[0mattr\u001b[0m \u001b[0;32min\u001b[0m \u001b[0mattributes\u001b[0m\u001b[0;34m]\u001b[0m\u001b[0;34m)\u001b[0m\u001b[0;34m:\u001b[0m\u001b[0;34m\u001b[0m\u001b[0;34m\u001b[0m\u001b[0m\n\u001b[0;32m--> 914\u001b[0;31m         \u001b[0;32mraise\u001b[0m \u001b[0mNotFittedError\u001b[0m\u001b[0;34m(\u001b[0m\u001b[0mmsg\u001b[0m \u001b[0;34m%\u001b[0m \u001b[0;34m{\u001b[0m\u001b[0;34m'name'\u001b[0m\u001b[0;34m:\u001b[0m \u001b[0mtype\u001b[0m\u001b[0;34m(\u001b[0m\u001b[0mestimator\u001b[0m\u001b[0;34m)\u001b[0m\u001b[0;34m.\u001b[0m\u001b[0m__name__\u001b[0m\u001b[0;34m}\u001b[0m\u001b[0;34m)\u001b[0m\u001b[0;34m\u001b[0m\u001b[0;34m\u001b[0m\u001b[0m\n\u001b[0m\u001b[1;32m    915\u001b[0m \u001b[0;34m\u001b[0m\u001b[0m\n\u001b[1;32m    916\u001b[0m \u001b[0;34m\u001b[0m\u001b[0m\n",
      "\u001b[0;31mNotFittedError\u001b[0m: This RandomForestRegressor instance is not fitted yet. Call 'fit' with appropriate arguments before using this method."
     ]
    }
   ],
   "source": [
    "rf_pipe.steps[-1][1].feature_importances_"
   ]
  },
  {
   "cell_type": "code",
   "execution_count": null,
   "metadata": {},
   "outputs": [],
   "source": []
  }
 ],
 "metadata": {
  "kernelspec": {
   "display_name": "Python 3",
   "language": "python",
   "name": "python3"
  },
  "language_info": {
   "codemirror_mode": {
    "name": "ipython",
    "version": 3
   },
   "file_extension": ".py",
   "mimetype": "text/x-python",
   "name": "python",
   "nbconvert_exporter": "python",
   "pygments_lexer": "ipython3",
   "version": "3.7.4"
  }
 },
 "nbformat": 4,
 "nbformat_minor": 4
}
