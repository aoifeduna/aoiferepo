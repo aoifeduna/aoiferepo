{
 "cells": [
  {
   "cell_type": "code",
   "execution_count": 1,
   "metadata": {},
   "outputs": [],
   "source": [
    "import os"
   ]
  },
  {
   "cell_type": "code",
   "execution_count": 50,
   "metadata": {},
   "outputs": [
    {
     "data": {
      "text/plain": [
       "'.csv'"
      ]
     },
     "execution_count": 50,
     "metadata": {},
     "output_type": "execute_result"
    }
   ],
   "source": [
    "filename = 'myfile.csv'\n",
    "filename[-4:]"
   ]
  },
  {
   "cell_type": "code",
   "execution_count": 64,
   "metadata": {},
   "outputs": [],
   "source": [
    "path = '../../../../../../Downloads'"
   ]
  },
  {
   "cell_type": "code",
   "execution_count": 65,
   "metadata": {},
   "outputs": [
    {
     "data": {
      "text/plain": [
       "['command-line-323.pdf',\n",
       " '.DS_Store',\n",
       " '.localized',\n",
       " 'price_data.csv',\n",
       " 'SpotifyInstaller.zip',\n",
       " 'Install Spotify.app',\n",
       " 'github-basics-324.pdf',\n",
       " 'PS - The role of dynamic 3D trunk motion_Marras-1993.pdf',\n",
       " 'GitHub Desktop.app',\n",
       " 'Atom.app',\n",
       " 'GitHubDesktop.zip',\n",
       " 'atom-mac.zip',\n",
       " '457962_10152297774725276_1781047258_o.jpg',\n",
       " 'axioms-of-probability-and-bayes-theorem.pdf',\n",
       " 'Sublime Text Build 3211.dmg']"
      ]
     },
     "execution_count": 65,
     "metadata": {},
     "output_type": "execute_result"
    }
   ],
   "source": [
    "os.listdir(path)"
   ]
  },
  {
   "cell_type": "code",
   "execution_count": 62,
   "metadata": {},
   "outputs": [],
   "source": [
    "zip_files = []\n",
    "\n",
    "for file in os.listdir(path):\n",
    "    if file [-4:] == '.pdf':\n",
    "        csv_files.append(file)\n",
    "\n"
   ]
  },
  {
   "cell_type": "code",
   "execution_count": 63,
   "metadata": {},
   "outputs": [
    {
     "name": "stdout",
     "output_type": "stream",
     "text": [
      "['command-line-323.pdf', 'github-basics-324.pdf', 'PS - The role of dynamic 3D trunk motion_Marras-1993.pdf', 'axioms-of-probability-and-bayes-theorem.pdf']\n"
     ]
    }
   ],
   "source": [
    "print(csv_files)"
   ]
  },
  {
   "cell_type": "code",
   "execution_count": 3,
   "metadata": {},
   "outputs": [
    {
     "data": {
      "text/plain": [
       "'/Users/aoifeduna/DAT/DAT-01-21/Lectures/Unit1/Class2/Labs'"
      ]
     },
     "execution_count": 3,
     "metadata": {},
     "output_type": "execute_result"
    }
   ],
   "source": [
    "pwd"
   ]
  },
  {
   "cell_type": "code",
   "execution_count": 67,
   "metadata": {},
   "outputs": [],
   "source": [
    "# sample data\n",
    "users = [\n",
    "    ('John', 34, None), ('Abby', 21, 'NY'), ('Jill', 41, 'OH'), ('Jason', 59, 'AL'), ('William', 35, None),\n",
    "    ('Wynona', 62, 'WY'), ('Barbara', 42, None), ('Harold', 52, None), ('Jose', 41, 'NH'), ('Ariel', 48, 'OR')\n",
    "]"
   ]
  },
  {
   "cell_type": "code",
   "execution_count": 70,
   "metadata": {},
   "outputs": [
    {
     "name": "stdout",
     "output_type": "stream",
     "text": [
      "('John', 34, None)\n",
      "('Abby', 21, 'NY')\n",
      "('Jill', 41, 'OH')\n",
      "('Jason', 59, 'AL')\n",
      "('William', 35, None)\n",
      "('Wynona', 62, 'WY')\n",
      "('Barbara', 42, None)\n",
      "('Harold', 52, None)\n",
      "('Jose', 41, 'NH')\n",
      "('Ariel', 48, 'OR')\n"
     ]
    }
   ],
   "source": [
    "for item in users:\n",
    "    print(item)"
   ]
  },
  {
   "cell_type": "code",
   "execution_count": 71,
   "metadata": {},
   "outputs": [
    {
     "name": "stdout",
     "output_type": "stream",
     "text": [
      "John\n",
      "34\n",
      "None\n",
      "Abby\n",
      "21\n",
      "NY\n",
      "Jill\n",
      "41\n",
      "OH\n",
      "Jason\n",
      "59\n",
      "AL\n",
      "William\n",
      "35\n",
      "None\n",
      "Wynona\n",
      "62\n",
      "WY\n",
      "Barbara\n",
      "42\n",
      "None\n",
      "Harold\n",
      "52\n",
      "None\n",
      "Jose\n",
      "41\n",
      "NH\n",
      "Ariel\n",
      "48\n",
      "OR\n"
     ]
    }
   ],
   "source": [
    "for user in users:\n",
    "    #users are the individuals of the collection\n",
    "    for item in user:\n",
    "        #items are the things within the parentheses\n",
    "        print(item)"
   ]
  },
  {
   "cell_type": "code",
   "execution_count": 72,
   "metadata": {},
   "outputs": [],
   "source": [
    "items = ['cat', 'dog', 'hat', 'shirt', 'towel', 'detergent', 'water']"
   ]
  },
  {
   "cell_type": "code",
   "execution_count": 73,
   "metadata": {},
   "outputs": [],
   "source": [
    "new_list = []\n",
    "\n",
    "for item in items:\n",
    "    if len(item) > 5:\n",
    "        new_list.append(item)"
   ]
  },
  {
   "cell_type": "code",
   "execution_count": 74,
   "metadata": {},
   "outputs": [
    {
     "data": {
      "text/plain": [
       "['detergent']"
      ]
     },
     "execution_count": 74,
     "metadata": {},
     "output_type": "execute_result"
    }
   ],
   "source": [
    "new_list"
   ]
  },
  {
   "cell_type": "code",
   "execution_count": 76,
   "metadata": {},
   "outputs": [
    {
     "data": {
      "text/plain": [
       "['detergent']"
      ]
     },
     "execution_count": 76,
     "metadata": {},
     "output_type": "execute_result"
    }
   ],
   "source": [
    "[item for item in items if len(item) > 5]\n",
    "#this is a list comprehension"
   ]
  },
  {
   "cell_type": "code",
   "execution_count": 79,
   "metadata": {},
   "outputs": [
    {
     "data": {
      "text/plain": [
       "1"
      ]
     },
     "execution_count": 79,
     "metadata": {},
     "output_type": "execute_result"
    }
   ],
   "source": [
    "sum(1 for item in items if len(item) > 5)\n",
    "#this is just a generator expression"
   ]
  },
  {
   "cell_type": "code",
   "execution_count": null,
   "metadata": {},
   "outputs": [],
   "source": []
  }
 ],
 "metadata": {
  "kernelspec": {
   "display_name": "Python 3",
   "language": "python",
   "name": "python3"
  },
  "language_info": {
   "codemirror_mode": {
    "name": "ipython",
    "version": 3
   },
   "file_extension": ".py",
   "mimetype": "text/x-python",
   "name": "python",
   "nbconvert_exporter": "python",
   "pygments_lexer": "ipython3",
   "version": "3.7.4"
  }
 },
 "nbformat": 4,
 "nbformat_minor": 2
}
