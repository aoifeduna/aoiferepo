{
 "cells": [
  {
   "cell_type": "markdown",
   "metadata": {},
   "source": [
    "<img src=\"http://imgur.com/1ZcRyrc.png\" style=\"float: left; margin: 20px; height: 55px\">\n",
    "\n",
    "## Python Review With Movie Data\n",
    "\n",
    "_Author: Kiefer Katovich and Dave Yerrington (San Francisco)\n",
    "\n",
    "---\n",
    "\n",
    "In this lab, you'll be using the [IMDb](http://www.imdb.com/) `movies` list below as your data set. \n",
    "\n",
    "This lab is designed to help you practice iteration and functions in particular. The normal questions are more gentle, and the challenge questions are suitable for advanced/expert Python students or those with programming experience. \n",
    "\n",
    "All of the questions require writing functions and using iteration to solve. You should print out a test of each function you write.\n",
    "\n",
    "\n",
    "### 1) Load the provided list of `movies` dictionaries."
   ]
  },
  {
   "cell_type": "code",
   "execution_count": 2,
   "metadata": {},
   "outputs": [],
   "source": [
    "# List of movies dictionaries:\n",
    "\n",
    "movies = [\n",
    "{\n",
    "\"name\": \"Usual Suspects\", \n",
    "\"imdb\": 7.0,\n",
    "\"category\": \"Thriller\"\n",
    "},\n",
    "{\n",
    "\"name\": \"Hitman\",\n",
    "\"imdb\": 6.3,\n",
    "\"category\": \"Action\"\n",
    "},\n",
    "{\n",
    "\"name\": \"Dark Knight\",\n",
    "\"imdb\": 9.0,\n",
    "\"category\": \"Adventure\"\n",
    "},\n",
    "{\n",
    "\"name\": \"The Help\",\n",
    "\"imdb\": 8.0,\n",
    "\"category\": \"Drama\"\n",
    "},\n",
    "{\n",
    "\"name\": \"The Choice\",\n",
    "\"imdb\": 6.2,\n",
    "\"category\": \"Romance\"\n",
    "},\n",
    "{\n",
    "\"name\": \"Colonia\",\n",
    "\"imdb\": 7.4,\n",
    "\"category\": \"Romance\"\n",
    "},\n",
    "{\n",
    "\"name\": \"Love\",\n",
    "\"imdb\": 6.0,\n",
    "\"category\": \"Romance\"\n",
    "},\n",
    "{\n",
    "\"name\": \"Bride Wars\",\n",
    "\"imdb\": 5.4,\n",
    "\"category\": \"Romance\"\n",
    "},\n",
    "{\n",
    "\"name\": \"AlphaJet\",\n",
    "\"imdb\": 3.2,\n",
    "\"category\": \"War\"\n",
    "},\n",
    "{\n",
    "\"name\": \"Ringing Crime\",\n",
    "\"imdb\": 4.0,\n",
    "\"category\": \"Crime\"\n",
    "},\n",
    "{\n",
    "\"name\": \"Joking muck\",\n",
    "\"imdb\": 7.2,\n",
    "\"category\": \"Comedy\"\n",
    "},\n",
    "{\n",
    "\"name\": \"What is the name\",\n",
    "\"imdb\": 9.2,\n",
    "\"category\": \"Suspense\"\n",
    "},\n",
    "{\n",
    "\"name\": \"Detective\",\n",
    "\"imdb\": 7.0,\n",
    "\"category\": \"Suspense\"\n",
    "},\n",
    "{\n",
    "\"name\": \"Exam\",\n",
    "\"imdb\": 4.2,\n",
    "\"category\": \"Thriller\"\n",
    "},\n",
    "{\n",
    "\"name\": \"We Two\",\n",
    "\"imdb\": 7.2,\n",
    "\"category\": \"Romance\"\n",
    "}\n",
    "]"
   ]
  },
  {
   "cell_type": "markdown",
   "metadata": {},
   "source": [
    "---\n",
    "\n",
    "### 2) Filtering data by IMDb score.\n",
    "\n",
    "#### 2.1)\n",
    "\n",
    "Write a function that:\n",
    "\n",
    "1) Accepts a single movie dictionary from the `movies` list as an argument.\n",
    "2) Returns `True` if the IMDb score is greater than 5.5.\n",
    "\n",
    "#### 2.2 [Challenge])\n",
    "\n",
    "Write a function that:\n",
    "\n",
    "1) Accepts the `movies` list and a specified category.\n",
    "2) Returns `True` if the average score of the category is higher than the average score of all movies."
   ]
  },
  {
   "cell_type": "code",
   "execution_count": 22,
   "metadata": {},
   "outputs": [
    {
     "name": "stdout",
     "output_type": "stream",
     "text": [
      "{'name': 'Usual Suspects', 'imdb': 7.0, 'category': 'Thriller'}\n",
      "True\n"
     ]
    }
   ],
   "source": [
    "#2.1\n",
    "\n",
    "def imdb_score(movie):\n",
    "    #A movie is a single item within the list\n",
    "    if movie['imdb'] > 5.5:\n",
    "        return 'True'\n",
    "    else:\n",
    "        return 'False'\n",
    "\n",
    "print(movies[0])\n",
    "print(imdb_score(movies[0]))"
   ]
  },
  {
   "cell_type": "code",
   "execution_count": 34,
   "metadata": {},
   "outputs": [
    {
     "name": "stdout",
     "output_type": "stream",
     "text": [
      "False\n",
      "True\n"
     ]
    }
   ],
   "source": [
    "#2.2\n",
    "\n",
    "def movie_category_over_avg(movies, category):\n",
    "    category_average = []\n",
    "    overall_average = []\n",
    "    #if you only need these within the function, it's usually best to keep them within the function\n",
    "    \n",
    "    for movie in movies:\n",
    "        #for every single item in the list\n",
    "        overall_average.append(movie['imdb'])\n",
    "        #append the movie score to the overall average\n",
    "        if movie['category'] == category:\n",
    "            category_average.append(movie['imdb'])\n",
    "            #if the category matches, add it to the category string\n",
    "            \n",
    "    overall_average = sum(overall_average)/len(overall_average)\n",
    "    #calculating the average value of the list\n",
    "    if len(category_average) == 0:\n",
    "        #checking to see if the category has anything in it at all\n",
    "        print(\"No specified movies\")\n",
    "        return False\n",
    "    else:\n",
    "        category_average = sum(category_average)/len(category_average)\n",
    "        #if the category exists, calculate the average\n",
    "        if category_average > overall_average:\n",
    "            return True\n",
    "        else:\n",
    "            return False\n",
    "        #basic true or false\n",
    "        #looping through and calculating averages and making comparisons\n",
    "        \n",
    "print(movie_category_over_avg(movies, 'Thriller'))\n",
    "print(movie_category_over_avg(movies, 'Suspense'))"
   ]
  },
  {
   "cell_type": "code",
   "execution_count": null,
   "metadata": {},
   "outputs": [],
   "source": [
    "category = 'Suspense'\n",
    "(movies['Category']['Suspense'])/len(movies)\n",
    "def imdb_score(movie):\n",
    "    if movie['imdb'] > 5.5:\n",
    "        return 'True'\n",
    "    else:\n",
    "        return 'False'\n",
    "\n",
    "print(movies[0])\n",
    "print(imdb_score(movies[0]))"
   ]
  },
  {
   "cell_type": "markdown",
   "metadata": {},
   "source": [
    "---\n",
    "\n",
    "### 3) Creating subsets by numeric condition.\n",
    "\n",
    "#### 3.1)\n",
    "\n",
    "Write a function that:\n",
    "\n",
    "1) Accepts the list of movies and a specified IMDb score.\n",
    "2) Returns the sublist of movies that have scores greater than the one specified.\n",
    "\n",
    "#### 3.2 [Expert])\n",
    "\n",
    "Write a function that:\n",
    "\n",
    "1) Accepts the `movies` list as an argument.\n",
    "2) Returns the `movies` list sorted first by category and then by movie according to category average score and individual IMDB score, respectively.\n",
    "\n",
    "**Hint:  `lambda` functions are useful for this.**"
   ]
  },
  {
   "cell_type": "code",
   "execution_count": 49,
   "metadata": {},
   "outputs": [
    {
     "name": "stdout",
     "output_type": "stream",
     "text": [
      "[{'name': 'What is the name', 'imdb': 9.2, 'category': 'Suspense'}]\n"
     ]
    }
   ],
   "source": [
    "#3.1\n",
    "#movie for movie in movies if movie['imdb'] > 5\n",
    "        \n",
    "        \n",
    "def greatmovielist(movies, score):\n",
    "    great_list = []\n",
    "    for movie in movies:\n",
    "        if movie['imdb'] > score:\n",
    "            great_list.append(movie)\n",
    "    return great_list\n",
    "\n",
    "print(greatmovielist(movies, 9))"
   ]
  },
  {
   "cell_type": "code",
   "execution_count": 72,
   "metadata": {},
   "outputs": [
    {
     "name": "stdout",
     "output_type": "stream",
     "text": [
      "[7.0, 6.3, 9.0, 8.0, 6.2, 7.4, 7.2, 9.2, 7.0, 7.2]\n"
     ]
    }
   ],
   "source": [
    "movie_scores = []\n",
    "\n",
    "for movie in movies:\n",
    "    if movie['imdb'] > 6:\n",
    "        movie_scores.append(movie['imdb'])\n",
    "        \n",
    "#You can't reuse this over and over again. That's why you need to turn it into a function.\n",
    "\n",
    "print(movie_scores)"
   ]
  },
  {
   "cell_type": "code",
   "execution_count": 78,
   "metadata": {},
   "outputs": [
    {
     "data": {
      "text/plain": [
       "[9.0, 8.0, 7.4, 7.2, 9.2, 7.2]"
      ]
     },
     "execution_count": 78,
     "metadata": {},
     "output_type": "execute_result"
    }
   ],
   "source": [
    "def find_movie_list(movie_list, score):\n",
    "#movie_list represents any list set up in the same way\n",
    "#instead of saying number 6 or number 5 as the imdb score, you can put in any variable at all\n",
    "\n",
    "    movie_scores = []\n",
    "    for movie in movie_list:\n",
    "        if movie['imdb'] > score:\n",
    "            movie_scores.append(movie['imdb'])\n",
    "            #return movie_scores\n",
    "            #if you add the return function here it will stop the first time it's true.\n",
    "        #return movie_scores\n",
    "    #same thing here.\n",
    "    return movie_scores\n",
    "    #you want the return after you get out of the loop\n",
    "\n",
    "find_movie_list(movies, 7)\n",
    "#'movies' is the name of the list. it can be replaced generically with any list.\n"
   ]
  },
  {
   "cell_type": "code",
   "execution_count": 57,
   "metadata": {},
   "outputs": [
    {
     "ename": "NameError",
     "evalue": "name 'overall_average' is not defined",
     "output_type": "error",
     "traceback": [
      "\u001b[0;31m---------------------------------------------------------------------------\u001b[0m",
      "\u001b[0;31mNameError\u001b[0m                                 Traceback (most recent call last)",
      "\u001b[0;32m<ipython-input-57-7f2a0010fdd7>\u001b[0m in \u001b[0;36m<module>\u001b[0;34m\u001b[0m\n\u001b[1;32m      9\u001b[0m \u001b[0;34m\u001b[0m\u001b[0m\n\u001b[1;32m     10\u001b[0m \u001b[0;34m\u001b[0m\u001b[0m\n\u001b[0;32m---> 11\u001b[0;31m \u001b[0moverall_average\u001b[0m\u001b[0;34m\u001b[0m\u001b[0;34m\u001b[0m\u001b[0m\n\u001b[0m\u001b[1;32m     12\u001b[0m \u001b[0;34m\u001b[0m\u001b[0m\n",
      "\u001b[0;31mNameError\u001b[0m: name 'overall_average' is not defined"
     ]
    }
   ],
   "source": [
    "def supersorted(movies, category):\n",
    "    overall_average = []\n",
    "    category_average = []\n",
    "    \n",
    "    for movie in movies:\n",
    "        overall_average.append(movie['imdb'])\n",
    "        if movie['category'] == category:\n",
    "            category_average.append(movie['imdb'])\n",
    "    overall_average = sum(overall_average)/len(overall_average)\n",
    "    \n",
    "    if len(category_average) == 0:\n",
    "        print(\"No specified movies in: \", category)\n",
    "        return False\n",
    "    \n",
    "\n",
    "\n",
    "      "
   ]
  },
  {
   "cell_type": "code",
   "execution_count": 69,
   "metadata": {},
   "outputs": [
    {
     "name": "stdout",
     "output_type": "stream",
     "text": [
      "['Usual Suspects', 'Hitman', 'Dark Knight', 'The Help', 'The Choice', 'Colonia', 'Love', 'Bride Wars', 'AlphaJet', 'Ringing Crime', 'Joking muck', 'What is the name', 'Detective', 'Exam', 'We Two']\n"
     ]
    },
    {
     "ename": "IndexError",
     "evalue": "string index out of range",
     "output_type": "error",
     "traceback": [
      "\u001b[0;31m---------------------------------------------------------------------------\u001b[0m",
      "\u001b[0;31mIndexError\u001b[0m                                Traceback (most recent call last)",
      "\u001b[0;32m<ipython-input-69-0fa2ede80544>\u001b[0m in \u001b[0;36m<module>\u001b[0;34m\u001b[0m\n\u001b[1;32m      6\u001b[0m \u001b[0mprint\u001b[0m\u001b[0;34m(\u001b[0m\u001b[0mmovie_names\u001b[0m\u001b[0;34m)\u001b[0m\u001b[0;34m\u001b[0m\u001b[0;34m\u001b[0m\u001b[0m\n\u001b[1;32m      7\u001b[0m \u001b[0;34m\u001b[0m\u001b[0m\n\u001b[0;32m----> 8\u001b[0;31m \u001b[0msorted\u001b[0m\u001b[0;34m(\u001b[0m\u001b[0mmovie_names\u001b[0m\u001b[0;34m,\u001b[0m \u001b[0mkey\u001b[0m\u001b[0;34m=\u001b[0m\u001b[0;32mlambda\u001b[0m \u001b[0mmovies\u001b[0m\u001b[0;34m:\u001b[0m \u001b[0mmovies\u001b[0m\u001b[0;34m[\u001b[0m\u001b[0;36m10\u001b[0m\u001b[0;34m]\u001b[0m\u001b[0;34m)\u001b[0m\u001b[0;34m\u001b[0m\u001b[0;34m\u001b[0m\u001b[0m\n\u001b[0m",
      "\u001b[0;32m<ipython-input-69-0fa2ede80544>\u001b[0m in \u001b[0;36m<lambda>\u001b[0;34m(movies)\u001b[0m\n\u001b[1;32m      6\u001b[0m \u001b[0mprint\u001b[0m\u001b[0;34m(\u001b[0m\u001b[0mmovie_names\u001b[0m\u001b[0;34m)\u001b[0m\u001b[0;34m\u001b[0m\u001b[0;34m\u001b[0m\u001b[0m\n\u001b[1;32m      7\u001b[0m \u001b[0;34m\u001b[0m\u001b[0m\n\u001b[0;32m----> 8\u001b[0;31m \u001b[0msorted\u001b[0m\u001b[0;34m(\u001b[0m\u001b[0mmovie_names\u001b[0m\u001b[0;34m,\u001b[0m \u001b[0mkey\u001b[0m\u001b[0;34m=\u001b[0m\u001b[0;32mlambda\u001b[0m \u001b[0mmovies\u001b[0m\u001b[0;34m:\u001b[0m \u001b[0mmovies\u001b[0m\u001b[0;34m[\u001b[0m\u001b[0;36m10\u001b[0m\u001b[0;34m]\u001b[0m\u001b[0;34m)\u001b[0m\u001b[0;34m\u001b[0m\u001b[0;34m\u001b[0m\u001b[0m\n\u001b[0m",
      "\u001b[0;31mIndexError\u001b[0m: string index out of range"
     ]
    }
   ],
   "source": [
    "movie_names = []\n",
    "\n",
    "for movie in movies:\n",
    "    movie_names.append(movie['name'])\n",
    "\n",
    "print(movie_names)\n",
    "\n",
    "sorted(movie_names, key=lambda movies: movies[10])"
   ]
  },
  {
   "cell_type": "code",
   "execution_count": null,
   "metadata": {},
   "outputs": [],
   "source": [
    "# 3.2:\n",
    "# See these Stack Overflow questions and answers for another example and explanation of the lambda search:\n",
    "# http://stackoverflow.com/questions/3766633/how-to-sort-with-lambda-in-python\n",
    "# http://stackoverflow.com/questions/14299448/sorting-by-multiple-conditions-in-python\n",
    "\n",
    "def category_score_sorted(movies):\n",
    "    category_scores = {}\n",
    "    for movie in movies:\n",
    "        # If the category key does not exist in the category_scores dic:\n",
    "        if not movie['category'] in category_scores:\n",
    "            # Add the category key with its first value being the IMDb score:\n",
    "            category_scores[movie['category']] = [movie['imdb']]\n",
    "        else:\n",
    "            # Otherwise, append the score to the existing category values list:\n",
    "            category_scores[movie['category']].append(movie['imdb'])\n",
    "    \n",
    "    # Uses the category key-and-values list to create a new dic in which the values are the means:\n",
    "    category_averages = {}\n",
    "    for cat, vals in list(category_scores.items()):\n",
    "        category_averages[cat] = sum(vals)/len(vals)\n",
    "    \n",
    "    \n",
    "    movies_sorted = sorted(movies, key=lambda x: (category_averages[x['category']],\n",
    "                                                  x['imdb']), reverse=True)\n",
    "        # \"key\" argument in the sorted function refers the desired means of sorting.\n",
    "        # \"x\" is referring to each individual entry in the movies list.\n",
    "        # Lambda functions are like single-use, one-line functions.\n",
    "        # In this case, we are sorting by category_avg and then IMDb scores.\n",
    "        # Reverse because we want high to low instead of low to high.\n",
    "    \n",
    "    return movies_sorted\n",
    "\n",
    "category_score_sorted(movies)"
   ]
  },
  {
   "cell_type": "code",
   "execution_count": 80,
   "metadata": {},
   "outputs": [],
   "source": [
    "the_list = [[1,2,],[5,7],[4,3],[2,9]]"
   ]
  },
  {
   "cell_type": "code",
   "execution_count": 81,
   "metadata": {},
   "outputs": [
    {
     "data": {
      "text/plain": [
       "[[1, 2], [2, 9], [4, 3], [5, 7]]"
      ]
     },
     "execution_count": 81,
     "metadata": {},
     "output_type": "execute_result"
    }
   ],
   "source": [
    "sorted(the_list)"
   ]
  },
  {
   "cell_type": "code",
   "execution_count": 82,
   "metadata": {},
   "outputs": [
    {
     "name": "stdout",
     "output_type": "stream",
     "text": [
      "Help on built-in function sorted in module builtins:\n",
      "\n",
      "sorted(iterable, /, *, key=None, reverse=False)\n",
      "    Return a new list containing all items from the iterable in ascending order.\n",
      "    \n",
      "    A custom key function can be supplied to customize the sort order, and the\n",
      "    reverse flag can be set to request the result in descending order.\n",
      "\n"
     ]
    }
   ],
   "source": [
    "help(sorted)"
   ]
  },
  {
   "cell_type": "code",
   "execution_count": 83,
   "metadata": {},
   "outputs": [
    {
     "data": {
      "text/plain": [
       "[[1, 2], [4, 3], [5, 7], [2, 9]]"
      ]
     },
     "execution_count": 83,
     "metadata": {},
     "output_type": "execute_result"
    }
   ],
   "source": [
    "sorted(the_list, key=lambda x: x[1])"
   ]
  },
  {
   "cell_type": "code",
   "execution_count": null,
   "metadata": {},
   "outputs": [],
   "source": []
  }
 ],
 "metadata": {
  "kernelspec": {
   "display_name": "Python 3",
   "language": "python",
   "name": "python3"
  },
  "language_info": {
   "codemirror_mode": {
    "name": "ipython",
    "version": 3
   },
   "file_extension": ".py",
   "mimetype": "text/x-python",
   "name": "python",
   "nbconvert_exporter": "python",
   "pygments_lexer": "ipython3",
   "version": "3.7.4"
  }
 },
 "nbformat": 4,
 "nbformat_minor": 1
}
