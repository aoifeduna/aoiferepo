{
 "cells": [
  {
   "cell_type": "markdown",
   "metadata": {},
   "source": [
    "<img src=\"http://imgur.com/1ZcRyrc.png\" style=\"float: left; margin: 20px; height: 55px\">\n",
    "\n",
    "# Project 1: Python Coding Exercises\n",
    "\n",
    "_Authors: Joseph Nelson (DC) _\n",
    "\n",
    "---"
   ]
  },
  {
   "cell_type": "markdown",
   "metadata": {},
   "source": [
    "The following code challenges are drawn from common exercises used in technical interviews.\n",
    "\n",
    "Please note that there may be several ways to approach each challenge. If you get stuck, try mapping out your approach in pseudocode first. Finally, while solutions to problems like these may be found online, remember that if you copy/paste code that you can't explain, you'll be missing out on the point of the project. The only way to truly learn a new skill is through practice, trial, and error - we can only help you improve by understanding where you are having trouble."
   ]
  },
  {
   "cell_type": "markdown",
   "metadata": {},
   "source": [
    "### Challenge 1: Largest Palindrome\n",
    "A palindromic number reads the same both ways. For example, 1234321 is a palindrome. The largest palindrome made from the product of two two-digit numbers is 9009 = 91 × 99. Find the largest palindrome made from the product of two three-digit numbers. Afterward, write a brief explanation walking through your code's logic in markdown."
   ]
  },
  {
   "cell_type": "code",
   "execution_count": 6,
   "metadata": {},
   "outputs": [
    {
     "name": "stdout",
     "output_type": "stream",
     "text": [
      "906609\n"
     ]
    }
   ],
   "source": [
    "numbers = []\n",
    "numbers2 = []\n",
    "\n",
    "for x in range(100,999):\n",
    "#I want to filter out non-three digit numbers\n",
    "    numbers.append(x)\n",
    "    numbers2.append(x)\n",
    "#print(numbers)\n",
    "#Hashed out the print because I don't need to see this\n",
    "#This gives me two lists up until 999\n",
    "\n",
    "multipliednumbers = []\n",
    "\n",
    "for a in numbers:\n",
    "    for b in numbers2:\n",
    "        multipliednumbers.append(a*b)\n",
    "#Now I multiply them together by all possible combinations\n",
    "#print(multipliednumbers)\n",
    "#I hashed out the print here because it will be too big.\n",
    "#Now I need to find palindromes\n",
    "\n",
    "palindromes = []\n",
    "\n",
    "for z in multipliednumbers:\n",
    "    if z != 0:\n",
    "        res = (str(z) == str(z)[::-1])\n",
    "        if res == 1:\n",
    "            palindromes.append(z)\n",
    "print(max(palindromes))\n",
    "#I could have made this a function\n",
    "\n",
    "#I way overcomplicated this, I think.\n",
    "#See the cell below for another approach I was thinking about."
   ]
  },
  {
   "cell_type": "code",
   "execution_count": 7,
   "metadata": {},
   "outputs": [
    {
     "name": "stdout",
     "output_type": "stream",
     "text": [
      "[1, 2, 3, 4]\n",
      "[[[1, 1], [1, 2], [1, 3], [1, 4], [2, 1], [2, 2], [2, 3], [2, 4], [3, 1], [3, 2], [3, 3], [3, 4], [4, 1], [4, 2], [4, 3], [4, 4]]]\n"
     ]
    }
   ],
   "source": [
    "#This was my first pass at trying to make this code simpler.\n",
    "#I was taking this approach because I misread the problem and thought I had to provide which two 3 digit numbers created the palindrome.\n",
    "#Reading directions is important!\n",
    "#Essentially I wanted to create a list of tuples and multiply them together.\n",
    "#Also, I just wanted fewer blocks of code.\n",
    "numbers = []\n",
    "numbers2 = []\n",
    "\n",
    "for x in range(1,5):\n",
    "#I want to filter out non-three digit numbers\n",
    "    numbers.append(x)\n",
    "    numbers2.append(x)\n",
    "#print(numbers)\n",
    "#Hashed out the print because I don't need to see this\n",
    "#This gives me a list up until 999\n",
    "print(numbers2)\n",
    "\n",
    "possiblecombos = []\n",
    "res = [[i, j] for i in numbers  \n",
    "             for j in numbers2]\n",
    "possiblecombos.append(res)\n",
    "print(possiblecombos)\n",
    "\n",
    "#multiples = [(num1 * num2) for num1,num2 in possiblecombos]\n",
    "\n",
    "#test = [x*y for x,y in possiblecombos]\n",
    "#print(test)\n",
    "#I know I made a list within a list within a list. Stuck!"
   ]
  },
  {
   "cell_type": "markdown",
   "metadata": {},
   "source": [
    "\n",
    "### Challenge 2: Summation of Primes\n",
    "The sum of the primes below 10 is 2 + 3 + 5 + 7 = 17. Find the sum of all the primes below 2,000. Afterward, write a brief explanation walking through your code's logic in markdown."
   ]
  },
  {
   "cell_type": "code",
   "execution_count": 8,
   "metadata": {},
   "outputs": [
    {
     "name": "stdout",
     "output_type": "stream",
     "text": [
      "277050\n"
     ]
    }
   ],
   "source": [
    "primes = []\n",
    "\n",
    "for x in range(0,2000):\n",
    "   if x > 1:\n",
    "       for i in range(2, x):\n",
    "            #Starting at 2 because 1 is not prime\n",
    "           if (x % i) == 0:\n",
    "            #Check if there is 0 remainder\n",
    "               break\n",
    "            #if the number is divisble by anything other than 1, ignore it\n",
    "       else:\n",
    "           primes.append(x)\n",
    "            #otherwise append it to my list of primes\n",
    "print(sum(primes))\n",
    "#sum it up!"
   ]
  },
  {
   "cell_type": "markdown",
   "metadata": {},
   "source": [
    "### Challenge 3: Multiples of 3 and 5\n",
    "If we list all of the natural numbers below 10 that are multiples of 3 or 5, we get 3, 5, 6, and 9. The sum of these multiples is 23. Find the sum of all the multiples of 3 and 5 below 1,000. Afterward, write a brief explanation walking through your code's logic in markdown."
   ]
  },
  {
   "cell_type": "code",
   "execution_count": 9,
   "metadata": {},
   "outputs": [
    {
     "name": "stdout",
     "output_type": "stream",
     "text": [
      "233168\n"
     ]
    }
   ],
   "source": [
    "multiples = []\n",
    "for x in range(0,1000):\n",
    "    if x % 3 == 0:\n",
    "        multiples.append(x)\n",
    "        #See if the number is divisible by 3 by checking if it has a remainder when you divide by 3.\n",
    "    if x % 5 == 0:\n",
    "        #See if the number is divisible by 5 by checking if it has a remainder when you divide by 5.\n",
    "        if x not in multiples:\n",
    "        #Checking to see if it's not already in the list.\n",
    "            multiples.append(x)\n",
    "print(sum(multiples))\n",
    "#Sum it up!"
   ]
  },
  {
   "cell_type": "markdown",
   "metadata": {},
   "source": [
    "### Challenge 4: String Compressor\n",
    "Implement a method to perform basic string compression using the counts of repeated characters. (This is called run-length encoding.) For example, the string \"aabcccccaaa\" would become a2b1c5a3. If the “compressed” string would not become smaller than the original string, your method should return the original string. You can assume the string has only uppercase and lowercase letters (a–z). Specify whether your solution is case sensitive or case insensitive and what you would need to change to make it the other. Afterward, write a brief explanation walking through your code's logic in markdown."
   ]
  },
  {
   "cell_type": "code",
   "execution_count": 10,
   "metadata": {},
   "outputs": [
    {
     "name": "stdout",
     "output_type": "stream",
     "text": [
      "A2B4b11c1C1D1d5\n"
     ]
    }
   ],
   "source": [
    "def stringcompressor(code):\n",
    "    count = {}\n",
    "    #This is the dictionary where I will be adding all of my key value pairs\n",
    "    #Key = letter, value = count of consecutive instances of that letter\n",
    "    for x in code:\n",
    "        if x.isalpha() == True:\n",
    "            #Checks to make sure it only evaluates for letters, and not numbers within the input\n",
    "            if x in count:\n",
    "                count[x] += 1\n",
    "            else:\n",
    "                count[x] = 1\n",
    "            #Find and count consecutive repeated values\n",
    "            #This is case-insensitive. If there is a b and a B it will return both b and B and their counts.\n",
    "            #If I wanted to make it case-sensitive, I would add a code.lower() to this function.\n",
    "\n",
    "    compressedstring = \"\".join((\"{}{}\".format(*i) for i in count.items()))\n",
    "    #Take the key value pairs and turn them into a string.\n",
    "\n",
    "    if len(code) == len(compressedstring):\n",
    "        print(code)\n",
    "        #If the length of the new value is equal to the length of the original, print the original\n",
    "    else:\n",
    "        print(compressedstring)\n",
    "        #Otherwise, print the new string\n",
    "\n",
    "stringcompressor('AABBBBbbbbbbbbbbb33333cCDddddd')"
   ]
  },
  {
   "cell_type": "markdown",
   "metadata": {},
   "source": [
    "### *BONUS* Challenge: FizzBuzz\n",
    "Write a program that prints all of the numbers from 1 to 100. For multiples of 3, instead of the number, print \"Fizz;\" for multiples of 5, print \"Buzz.\" For numbers that are multiples of both 3 and 5, print \"FizzBuzz.\" Afterward, write a brief explanation walking through your code's logic in markdown."
   ]
  },
  {
   "cell_type": "code",
   "execution_count": 11,
   "metadata": {},
   "outputs": [
    {
     "name": "stdout",
     "output_type": "stream",
     "text": [
      "[1, 2, 'Fizz', 4, 'Buzz', 'Fizz', 7, 8, 'Fizz', 'Buzz', 11, 'Fizz', 13, 14, 'Fizzbuzz', 16, 17, 'Fizz', 19, 'Buzz', 'Fizz', 22, 23, 'Fizz', 'Buzz', 26, 'Fizz', 28, 29, 'Fizzbuzz', 31, 32, 'Fizz', 34, 'Buzz', 'Fizz', 37, 38, 'Fizz', 'Buzz', 41, 'Fizz', 43, 44, 'Fizzbuzz', 46, 47, 'Fizz', 49, 'Buzz', 'Fizz', 52, 53, 'Fizz', 'Buzz', 56, 'Fizz', 58, 59, 'Fizzbuzz', 61, 62, 'Fizz', 64, 'Buzz', 'Fizz', 67, 68, 'Fizz', 'Buzz', 71, 'Fizz', 73, 74, 'Fizzbuzz', 76, 77, 'Fizz', 79, 'Buzz', 'Fizz', 82, 83, 'Fizz', 'Buzz', 86, 'Fizz', 88, 89, 'Fizzbuzz', 91, 92, 'Fizz', 94, 'Buzz', 'Fizz', 97, 98, 'Fizz']\n"
     ]
    }
   ],
   "source": [
    "fizzybuzzylist = []\n",
    "\n",
    "for x in range (1,100):\n",
    "    #Get all numbers zero to one hundred\n",
    "\n",
    "    if x % 3 == 0 and x % 5 == 0:\n",
    "        if x not in fizzybuzzylist:\n",
    "            fizzybuzzylist.append('Fizzbuzz')\n",
    "            #You have to evaluate this first; otherwise it won't print Fizzbuzz values if it's in an elif.\n",
    "            #I tried and it didn't work, that's how I know that.\n",
    "    elif x % 3 == 0:\n",
    "        if x not in fizzybuzzylist:\n",
    "            fizzybuzzylist.append('Fizz')\n",
    "            #Checking if it's divisible by three, and replacing with Fizz.\n",
    "    elif x % 5 == 0:\n",
    "        if x not in fizzybuzzylist:\n",
    "            fizzybuzzylist.append('Buzz')\n",
    "            #Checking if its a multiple of 5, and replacing with Buzz.\n",
    "\n",
    "    else:\n",
    "            if x not in fizzybuzzylist:\n",
    "                fizzybuzzylist.append(x)        \n",
    "       #Putting everything else in the list.\n",
    "print(fizzybuzzylist)"
   ]
  }
 ],
 "metadata": {
  "anaconda-cloud": {},
  "kernelspec": {
   "display_name": "Python 3",
   "language": "python",
   "name": "python3"
  },
  "language_info": {
   "codemirror_mode": {
    "name": "ipython",
    "version": 3
   },
   "file_extension": ".py",
   "mimetype": "text/x-python",
   "name": "python",
   "nbconvert_exporter": "python",
   "pygments_lexer": "ipython3",
   "version": "3.7.4"
  }
 },
 "nbformat": 4,
 "nbformat_minor": 2
}
