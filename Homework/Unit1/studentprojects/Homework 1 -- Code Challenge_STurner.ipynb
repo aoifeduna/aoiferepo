{
 "cells": [
  {
   "cell_type": "markdown",
   "metadata": {},
   "source": [
    "<img src=\"http://imgur.com/1ZcRyrc.png\" style=\"float: left; margin: 20px; height: 55px\">\n",
    "\n",
    "# Project 1: Python Coding Exercises\n",
    "\n",
    "_Authors: Joseph Nelson (DC) _\n",
    "\n",
    "---"
   ]
  },
  {
   "cell_type": "markdown",
   "metadata": {},
   "source": [
    "The following code challenges are drawn from common exercises used in technical interviews.\n",
    "\n",
    "Please note that there may be several ways to approach each challenge. If you get stuck, try mapping out your approach in pseudocode first. Finally, while solutions to problems like these may be found online, remember that if you copy/paste code that you can't explain, you'll be missing out on the point of the project. The only way to truly learn a new skill is through practice, trial, and error - we can only help you improve by understanding where you are having trouble."
   ]
  },
  {
   "cell_type": "markdown",
   "metadata": {},
   "source": [
    "### Challenge 1: Largest Palindrome\n",
    "A palindromic number reads the same both ways. For example, 1234321 is a palindrome. The largest palindrome made from the product of two two-digit numbers is 9009 = 91 × 99. Find the largest palindrome made from the product of two three-digit numbers. Afterward, write a brief explanation walking through your code's logic in markdown."
   ]
  },
  {
   "cell_type": "code",
   "execution_count": 7,
   "metadata": {
    "scrolled": true
   },
   "outputs": [
    {
     "name": "stdout",
     "output_type": "stream",
     "text": [
      "906609\n"
     ]
    }
   ],
   "source": [
    "maxpal = 0\n",
    "for x in range(999, 100, -1):\n",
    "    for y in range (x, 100, -1):\n",
    "        a = x * y\n",
    "        if a > maxpal:\n",
    "            b = str(x * y)\n",
    "            if b == b[::-1]:\n",
    "                maxpal = x * y\n",
    "                \n",
    "print(maxpal)"
   ]
  },
  {
   "cell_type": "code",
   "execution_count": null,
   "metadata": {},
   "outputs": [],
   "source": [
    "maxpal = 0   #created a variable in which the results will end up \n",
    "for x in range(999, 100, -1):  #creating a for loop that examine the range of potential three digit numbers from 999 to 100\n",
    "    for y in range (x, 100, -1): #creating another loop function that will use the values from the previous loop to minimum value possible\n",
    "        a = x * y   #created another variable to capture a table of all of the multiplicative scenarios from the previous loops\n",
    "        if a > maxpal: # this step is examning those scenarios and comparing them to the previous loop to make sure only the those values less than a are captured \n",
    "            b = str(x * y) #created another variable to capture all of the values that will be instantiated using the string function from the previous object \n",
    "            if b == b[::-1]: #this step will compare all of those values using the list slicing function by each value backwards via -1   \n",
    "                maxpal = x * y #those values will now be assigned to the maxpal variable\n",
    "                \n",
    "print(maxpal) #print the maxpal variable"
   ]
  },
  {
   "cell_type": "markdown",
   "metadata": {},
   "source": [
    "\n",
    "### Challenge 2: Summation of Primes\n",
    "The sum of the primes below 10 is 2 + 3 + 5 + 7 = 17. Find the sum of all the primes below 2,000. Afterward, write a brief explanation walking through your code's logic in markdown."
   ]
  },
  {
   "cell_type": "code",
   "execution_count": 16,
   "metadata": {},
   "outputs": [
    {
     "name": "stdout",
     "output_type": "stream",
     "text": [
      "1060\n"
     ]
    }
   ],
   "source": [
    "x = 1 #define variables\n",
    "y = 0 #define additional variable to print\n",
    "while x<100:   #create loop that generates a list of numbers.\n",
    "    x=x+1      #during this loop it will add one additional number to the existing value\n",
    "    a = 0      #create additional variable to run it against\n",
    "    b = 0      #create another variable to run those calculations against \n",
    "    while a<x:  #generates a list of numbers that will only be compared to less than x\n",
    "        a=a+1  #during this loop it will add an additional number to the exisiting value \n",
    "        if (x/a)-int(x/a) == 0: #this will check for numbers that are divisible by using an integer function\n",
    "            b=b+1 #adds an additional number to the loop\n",
    "    if b==2:  #will compare values from the previous loop  \n",
    "        y=y+x  #if it is a prime number it will add it to the y variable\n",
    "print(y)  #prints the sum of all numbers found in y variable"
   ]
  },
  {
   "cell_type": "markdown",
   "metadata": {},
   "source": [
    "### Challenge 3: Multiples of 3 and 5\n",
    "If we list all of the natural numbers below 10 that are multiples of 3 or 5, we get 3, 5, 6, and 9. The sum of these multiples is 23. Find the sum of all the multiples of 3 and 5 below 1,000. Afterward, write a brief explanation walking through your code's logic in markdown."
   ]
  },
  {
   "cell_type": "code",
   "execution_count": null,
   "metadata": {},
   "outputs": [],
   "source": [
    "sum_count = 0  #define variable in order to capture \n",
    "\n",
    "for x in range(0,1000): #state conditions using a for loop with the range up to 1000\n",
    "    if x % 3 == 0 or x % 5 ==0: #next step of the condition is to divide the range of x by multiples of 3 and 5 using or statement\n",
    "        sum_count = sum_count + x #the last step is to then create a sum-like function that will add x to each iterating step of sum_count\n",
    "\n",
    "print(sum_count) #prints the value of variable"
   ]
  },
  {
   "cell_type": "markdown",
   "metadata": {},
   "source": [
    "### Challenge 4: String Compressor\n",
    "Implement a method to perform basic string compression using the counts of repeated characters. (This is called run-length encoding.) For example, the string \"aabcccccaaa\" would become a2b1c5a3. If the “compressed” string would not become smaller than the original string, your method should return the original string. You can assume the string has only uppercase and lowercase letters (a–z). Specify whether your solution is case sensitive or case insensitive and what you would need to change to make it the other. Afterward, write a brief explanation walking through your code's logic in markdown."
   ]
  },
  {
   "cell_type": "code",
   "execution_count": null,
   "metadata": {
    "collapsed": true
   },
   "outputs": [],
   "source": [
    "#solution pulled from google search#\n",
    "#creating a definition to minimize potential functions overlapping\n",
    "\n",
    "def runLengthEncode (plainText):\n",
    "    res=''\n",
    "    a=''\n",
    "    count = 0\n",
    "    for i in plainText:\n",
    "        count+=1\n",
    "        if a.count(i)>0:\n",
    "            a+=i\n",
    "        else:\n",
    "            if len(a)>4:\n",
    "                if len(a)<10:\n",
    "                    res+=\"/0\"+str(len(a))+a[0][:1]\n",
    "                else:\n",
    "                    res+=\"/\" + str(len(a)) + a[0][:1]\n",
    "                a=i\n",
    "            else:\n",
    "                res+=a\n",
    "                a=i\n",
    "        if count == len(plainText):\n",
    "            if len(a)>4:\n",
    "                if len(a)<10:\n",
    "                    res+=\"/0\"+str(len(a))+a[0][:1]\n",
    "                else:\n",
    "                    res+=\"/\" + str(len(a)) + a[0][:1]\n",
    "            else:\n",
    "                res+=a\n",
    "    return(res)"
   ]
  },
  {
   "cell_type": "markdown",
   "metadata": {},
   "source": [
    "### *BONUS* Challenge: FizzBuzz\n",
    "Write a program that prints all of the numbers from 1 to 100. For multiples of 3, instead of the number, print \"Fizz;\" for multiples of 5, print \"Buzz.\" For numbers that are multiples of both 3 and 5, print \"FizzBuzz.\" Afterward, write a brief explanation walking through your code's logic in markdown."
   ]
  },
  {
   "cell_type": "code",
   "execution_count": null,
   "metadata": {},
   "outputs": [],
   "source": [
    "for num in range(1, 101): #Defines the range of numbers to review starting with 1 to 100\n",
    "    if num % 15 == 0:  #This will first examine if the value is divisible by 15, multiple of 3 and 5, to print fizzbuzz\n",
    "        print('fizzbuz')\n",
    "    elif num % 5 == 0: # if number is not divisible by 15 will continue the loop to see if the value is divisible 5 \n",
    "        print('buzz')\n",
    "    elif num % 3 == 0: # if that number is not divisible by 15 or 5 will continue loop to see if the value is divisible by 3\n",
    "        print('fizz')\n",
    "    else:\n",
    "        print(num)\n",
    "\n",
    "    #important to have the order in descending value as the increased likelihood of number will stop the loop the other way around"
   ]
  }
 ],
 "metadata": {
  "anaconda-cloud": {},
  "kernelspec": {
   "display_name": "Python 3",
   "language": "python",
   "name": "python3"
  },
  "language_info": {
   "codemirror_mode": {
    "name": "ipython",
    "version": 3
   },
   "file_extension": ".py",
   "mimetype": "text/x-python",
   "name": "python",
   "nbconvert_exporter": "python",
   "pygments_lexer": "ipython3",
   "version": "3.7.4"
  }
 },
 "nbformat": 4,
 "nbformat_minor": 2
}
