{
 "cells": [
  {
   "cell_type": "markdown",
   "metadata": {},
   "source": [
    "<img src=\"http://imgur.com/1ZcRyrc.png\" style=\"float: left; margin: 20px; height: 55px\">\n",
    "\n",
    "# Project 1: Python Coding Exercises\n",
    "\n",
    "_Authors: Joseph Nelson (DC) _\n",
    "\n",
    "---"
   ]
  },
  {
   "cell_type": "markdown",
   "metadata": {},
   "source": [
    "The following code challenges are drawn from common exercises used in technical interviews.\n",
    "\n",
    "Please note that there may be several ways to approach each challenge. If you get stuck, try mapping out your approach in pseudocode first. Finally, while solutions to problems like these may be found online, remember that if you copy/paste code that you can't explain, you'll be missing out on the point of the project. The only way to truly learn a new skill is through practice, trial, and error - we can only help you improve by understanding where you are having trouble."
   ]
  },
  {
   "cell_type": "markdown",
   "metadata": {},
   "source": [
    "### Challenge 1: Largest Palindrome\n",
    "A palindromic number reads the same both ways. For example, 1234321 is a palindrome. The largest palindrome made from the product of two two-digit numbers is 9009 = 91 × 99. Find the largest palindrome made from the product of two three-digit numbers. Afterward, write a brief explanation walking through your code's logic in markdown."
   ]
  },
  {
   "cell_type": "code",
   "execution_count": 9,
   "metadata": {},
   "outputs": [
    {
     "name": "stdout",
     "output_type": "stream",
     "text": [
      "     Result  Result2    mult  rev    diff  palidrome\n",
      "0       100      999   99900    0  -99900      False\n",
      "1       101      998  100798    0 -100798      False\n",
      "2       102      997  101694    0 -101694      False\n",
      "3       103      996  102588    0 -102588      False\n",
      "4       104      995  103480    0 -103480      False\n",
      "..      ...      ...     ...  ...     ...        ...\n",
      "894     994      105  104370    0 -104370      False\n",
      "895     995      104  103480    0 -103480      False\n",
      "896     996      103  102588    0 -102588      False\n",
      "897     997      102  101694    0 -101694      False\n",
      "898     998      101  100798    0 -100798      False\n",
      "\n",
      "[899 rows x 6 columns]\n"
     ]
    }
   ],
   "source": [
    "#Code Explanation:\n",
    "#1.create a dataset that has two coulumns. One with rows starting from 100 and ending in 999 and a second\n",
    "#column with rows from 999 to 100. \n",
    "#2.Take the product of the two columns \n",
    "#3.Take the reverse of #2 and check if that is the same as the base number.\n",
    "#4.The difference between the base and the reverse.\n",
    "#5.Retrieve the maximum number where the difference is zero\n",
    "#Note: could not figure out how to get the reverse so I was stuck there.\n",
    "\n",
    "import pandas as pd\n",
    "import numpy as np\n",
    "\n",
    "result=[]\n",
    "\n",
    "df = pd.DataFrame() \n",
    "\n",
    "a=range(100,999,1)\n",
    "\n",
    "for item in a:    \n",
    "    result.append(item)\n",
    "\n",
    "df['Result'] = result\n",
    "df['Result2'] = 999 -(df['Result'] - 100)  \n",
    "df['mult'] = df['Result'] * df['Result2'] \n",
    "\n",
    "#getting the reverse of a number - could not figure out so just setting it to zero\n",
    "df['rev'] = 0\n",
    "\n",
    "#check if the two numbers are the same by taking the difference\n",
    "df['diff'] = df['rev'] - df['mult']\n",
    "\n",
    "#create a flag to identify palindrome cases\n",
    "df['palidrome'] =(df['diff']==0)\n",
    "\n",
    "print(df)"
   ]
  },
  {
   "cell_type": "markdown",
   "metadata": {},
   "source": [
    "\n",
    "### Challenge 2: Summation of Primes\n",
    "The sum of the primes below 10 is 2 + 3 + 5 + 7 = 17. Find the sum of all the primes below 2,000. Afterward, write a brief explanation walking through your code's logic in markdown."
   ]
  },
  {
   "cell_type": "code",
   "execution_count": 12,
   "metadata": {},
   "outputs": [
    {
     "data": {
      "text/plain": [
       "999999"
      ]
     },
     "execution_count": 12,
     "metadata": {},
     "output_type": "execute_result"
    }
   ],
   "source": [
    "#Code Explanation:\n",
    "#1. create a list of odd numbers ranging from 1 to 2000. \n",
    "#2. loop throug that list until we reach 2000\n",
    "#3. take the cumulative sum of the prime numbers only  \n",
    "\n",
    "all_numbers = (range(1, 2000 + 1, 2)) #gives us ranging from 1-2000.The by an increment of 2 excludes the even  \n",
    "primes_sum = 0 #initiating value\n",
    "idx = 0 #initiating index\n",
    "prime = all_numbers[idx] \n",
    "\n",
    "while prime < 2000 and idx <len(all_numbers)-1:  #looping until we reach 2000. second argument is there as I was getting a range error but not sure why its needed\n",
    "    idx += 1\n",
    "    prime = all_numbers[idx] \n",
    "    primes_sum += prime \n",
    "    num = prime\n",
    "    while num < 2000 and (num % prime) != 0: # making sure we keep prime numbers only feed into the sum\n",
    "        num += prime\n",
    " \n",
    "\n",
    "primes_sum"
   ]
  },
  {
   "cell_type": "markdown",
   "metadata": {},
   "source": [
    "### Challenge 3: Multiples of 3 and 5\n",
    "If we list all of the natural numbers below 10 that are multiples of 3 or 5, we get 3, 5, 6, and 9. The sum of these multiples is 23. Find the sum of all the multiples of 3 and 5 below 1,000. Afterward, write a brief explanation walking through your code's logic in markdown."
   ]
  },
  {
   "cell_type": "code",
   "execution_count": 22,
   "metadata": {},
   "outputs": [
    {
     "name": "stdout",
     "output_type": "stream",
     "text": [
      "266333\n"
     ]
    }
   ],
   "source": [
    "\n",
    "#Code Exlpanation:\n",
    "#1. Create all values that we need for the sumations. \n",
    "#2. First list includes all multiples of 3 \n",
    "#3. Second list includes all multiples of 5\n",
    "#4. using a loop calculate the cumulative sum of both lists up to 1000\n",
    "#5. print the sum of the two\n",
    "\n",
    "n=1000\n",
    "mulitples_of_3 = range(3, n, 3)\n",
    "mulitples_of_5 = range(5, n, 5)\n",
    "\n",
    "#Initiate variables needed in the loop\n",
    "mulitples_of_3_sum=0\n",
    "mulitples_of_5_sum=0 \n",
    "\n",
    "#calculate the sum of all multiples of 3\n",
    "for item in mulitples_of_3:\n",
    "    mulitples_of_3_sum += item\n",
    "\n",
    "#calculate the sum of all multiples of 5\n",
    "for item in mulitples_of_5:\n",
    "    mulitples_of_5_sum += item\n",
    "\n",
    "#Total sum of the two sums\n",
    "print(mulitples_of_3_sum+mulitples_of_5_sum)       \n",
    "        "
   ]
  },
  {
   "cell_type": "markdown",
   "metadata": {},
   "source": [
    "### Challenge 4: String Compressor\n",
    "Implement a method to perform basic string compression using the counts of repeated characters. (This is called run-length encoding.) For example, the string \"aabcccccaaa\" would become a2b1c5a3. If the “compressed” string would not become smaller than the original string, your method should return the original string. You can assume the string has only uppercase and lowercase letters (a–z). Specify whether your solution is case sensitive or case insensitive and what you would need to change to make it the other. Afterward, write a brief explanation walking through your code's logic in markdown."
   ]
  },
  {
   "cell_type": "code",
   "execution_count": 4,
   "metadata": {},
   "outputs": [
    {
     "ename": "IndexError",
     "evalue": "string index out of range",
     "output_type": "error",
     "traceback": [
      "\u001b[1;31m---------------------------------------------------------------------------\u001b[0m",
      "\u001b[1;31mIndexError\u001b[0m                                Traceback (most recent call last)",
      "\u001b[1;32m<ipython-input-4-39c8aea0a354>\u001b[0m in \u001b[0;36m<module>\u001b[1;34m\u001b[0m\n\u001b[0;32m     15\u001b[0m     \u001b[0mn\u001b[0m\u001b[1;33m+=\u001b[0m\u001b[1;36m1\u001b[0m\u001b[1;33m\u001b[0m\u001b[1;33m\u001b[0m\u001b[0m\n\u001b[0;32m     16\u001b[0m \u001b[1;33m\u001b[0m\u001b[0m\n\u001b[1;32m---> 17\u001b[1;33m \u001b[1;32mwhile\u001b[0m \u001b[0mstring_lowercase\u001b[0m\u001b[1;33m[\u001b[0m\u001b[0mn\u001b[0m\u001b[1;33m]\u001b[0m\u001b[1;33m==\u001b[0m\u001b[0mstring_lowercase\u001b[0m\u001b[1;33m[\u001b[0m\u001b[0mn\u001b[0m\u001b[1;33m-\u001b[0m\u001b[1;36m1\u001b[0m\u001b[1;33m]\u001b[0m\u001b[1;33m:\u001b[0m\u001b[1;33m\u001b[0m\u001b[1;33m\u001b[0m\u001b[0m\n\u001b[0m\u001b[0;32m     18\u001b[0m       \u001b[0mchange\u001b[0m\u001b[1;33m=\u001b[0m\u001b[0mn\u001b[0m\u001b[1;33m\u001b[0m\u001b[1;33m\u001b[0m\u001b[0m\n\u001b[0;32m     19\u001b[0m       \u001b[0mtext\u001b[0m\u001b[1;33m=\u001b[0m \u001b[0mstring_lowercase\u001b[0m\u001b[1;33m[\u001b[0m\u001b[1;33m:\u001b[0m\u001b[0mn\u001b[0m\u001b[1;33m]\u001b[0m\u001b[1;33m\u001b[0m\u001b[1;33m\u001b[0m\u001b[0m\n",
      "\u001b[1;31mIndexError\u001b[0m: string index out of range"
     ]
    }
   ],
   "source": [
    "#Code Explanation:\n",
    "#1. break down the string into letters\n",
    "#2. compare somehow the second letter with the previous one\n",
    "#Note: I was not able to figure out how to do this but I did see in the web that you actually need \n",
    "#to use the oredreddict function but I was wondering whether this way could work so kept playing with this\n",
    "\n",
    "string_lowercase = 'aabcccccaa'\n",
    "\n",
    "length=len(string_lowercase)\n",
    "breakdown = list(string_lowercase)\n",
    "n=0\n",
    "change=0\n",
    "text=''\n",
    "\n",
    "for letter in breakdown:\n",
    "    n+=1\n",
    "    \n",
    "while string_lowercase[n]==string_lowercase[n-1]:\n",
    "      change=n\n",
    "      text= string_lowercase[:n]\n",
    "            \n"
   ]
  },
  {
   "cell_type": "markdown",
   "metadata": {},
   "source": [
    "### *BONUS* Challenge: FizzBuzz\n",
    "Write a program that prints all of the numbers from 1 to 100. For multiples of 3, instead of the number, print \"Fizz;\" for multiples of 5, print \"Buzz.\" For numbers that are multiples of both 3 and 5, print \"FizzBuzz.\" Afterward, write a brief explanation walking through your code's logic in markdown."
   ]
  },
  {
   "cell_type": "code",
   "execution_count": 5,
   "metadata": {},
   "outputs": [
    {
     "name": "stdout",
     "output_type": "stream",
     "text": [
      "1\n",
      "2\n",
      "Fizz\n",
      "4\n",
      "Buzz\n",
      "Fizz\n",
      "7\n",
      "8\n",
      "Fizz\n",
      "Buzz\n",
      "11\n",
      "Fizz\n",
      "13\n",
      "14\n",
      "FizzBuzz\n",
      "16\n",
      "17\n",
      "Fizz\n",
      "19\n",
      "Buzz\n",
      "Fizz\n",
      "22\n",
      "23\n",
      "Fizz\n",
      "Buzz\n",
      "26\n",
      "Fizz\n",
      "28\n",
      "29\n",
      "FizzBuzz\n",
      "31\n",
      "32\n",
      "Fizz\n",
      "34\n",
      "Buzz\n",
      "Fizz\n",
      "37\n",
      "38\n",
      "Fizz\n",
      "Buzz\n",
      "41\n",
      "Fizz\n",
      "43\n",
      "44\n",
      "FizzBuzz\n",
      "46\n",
      "47\n",
      "Fizz\n",
      "49\n",
      "Buzz\n",
      "Fizz\n",
      "52\n",
      "53\n",
      "Fizz\n",
      "Buzz\n",
      "56\n",
      "Fizz\n",
      "58\n",
      "59\n",
      "FizzBuzz\n",
      "61\n",
      "62\n",
      "Fizz\n",
      "64\n",
      "Buzz\n",
      "Fizz\n",
      "67\n",
      "68\n",
      "Fizz\n",
      "Buzz\n",
      "71\n",
      "Fizz\n",
      "73\n",
      "74\n",
      "FizzBuzz\n",
      "76\n",
      "77\n",
      "Fizz\n",
      "79\n",
      "Buzz\n",
      "Fizz\n",
      "82\n",
      "83\n",
      "Fizz\n",
      "Buzz\n",
      "86\n",
      "Fizz\n",
      "88\n",
      "89\n",
      "FizzBuzz\n",
      "91\n",
      "92\n",
      "Fizz\n",
      "94\n",
      "Buzz\n",
      "Fizz\n",
      "97\n",
      "98\n",
      "Fizz\n"
     ]
    }
   ],
   "source": [
    "#Code Explanation: \n",
    "#1. create values from 0 to 100\n",
    "#2. Loop through the numbers and using IF/ELSE logic print the desired output\n",
    "#3. started with the multiples of both 3 and 5 so that it gets evaluated before the either 3 or 5 cases\n",
    "\n",
    "#Parameters & Values\n",
    "n=100\n",
    "all_numbers = range(1, n, 1)\n",
    "\n",
    "#Loop spitting out the desired results\n",
    "for number in all_numbers:\n",
    "    if number % 3 == 0 and number % 5 ==0:\n",
    "        print('FizzBuzz')\n",
    "    elif number % 3 == 0:\n",
    "        print('Fizz')\n",
    "    elif number % 5 ==0:\n",
    "        print('Buzz')\n",
    "    else:\n",
    "        print(number)\n",
    "    \n",
    "#beautiful.."
   ]
  },
  {
   "cell_type": "code",
   "execution_count": 6,
   "metadata": {},
   "outputs": [
    {
     "name": "stdout",
     "output_type": "stream",
     "text": [
      "Thank You! See you in class\n"
     ]
    }
   ],
   "source": [
    "print('Thank You! See you in class')"
   ]
  },
  {
   "cell_type": "code",
   "execution_count": null,
   "metadata": {},
   "outputs": [],
   "source": []
  }
 ],
 "metadata": {
  "anaconda-cloud": {},
  "kernelspec": {
   "display_name": "Python 3",
   "language": "python",
   "name": "python3"
  },
  "language_info": {
   "codemirror_mode": {
    "name": "ipython",
    "version": 3
   },
   "file_extension": ".py",
   "mimetype": "text/x-python",
   "name": "python",
   "nbconvert_exporter": "python",
   "pygments_lexer": "ipython3",
   "version": "3.7.4"
  }
 },
 "nbformat": 4,
 "nbformat_minor": 2
}
