{
 "cells": [
  {
   "cell_type": "markdown",
   "metadata": {},
   "source": [
    "<img src=\"http://imgur.com/1ZcRyrc.png\" style=\"float: left; margin: 20px; height: 55px\">\n",
    "\n",
    "# Project 1: Python Coding Exercises\n",
    "\n",
    "_Authors: Joseph Nelson (DC) _\n",
    "\n",
    "---"
   ]
  },
  {
   "cell_type": "markdown",
   "metadata": {},
   "source": [
    "The following code challenges are drawn from common exercises used in technical interviews.\n",
    "\n",
    "Please note that there may be several ways to approach each challenge. If you get stuck, try mapping out your approach in pseudocode first. Finally, while solutions to problems like these may be found online, remember that if you copy/paste code that you can't explain, you'll be missing out on the point of the project. The only way to truly learn a new skill is through practice, trial, and error - we can only help you improve by understanding where you are having trouble."
   ]
  },
  {
   "cell_type": "markdown",
   "metadata": {},
   "source": [
    "### Challenge 1: Largest Palindrome\n",
    "A palindromic number reads the same both ways. For example, 1234321 is a palindrome. The largest palindrome made from the product of two two-digit numbers is 9009 = 91 × 99. Find the largest palindrome made from the product of two three-digit numbers. Afterward, write a brief explanation walking through your code's logic in markdown."
   ]
  },
  {
   "cell_type": "code",
   "execution_count": 5,
   "metadata": {
    "scrolled": true
   },
   "outputs": [
    {
     "data": {
      "text/plain": [
       "906609"
      ]
     },
     "execution_count": 5,
     "metadata": {},
     "output_type": "execute_result"
    }
   ],
   "source": [
    "# input: 2 numbers, both 100 - 1000\n",
    "# method: create a function that turns a number into a palindromes\n",
    "#         then create a loop that multiplies each combo of 3 digit numbers\n",
    "#         if the product is a palindome, add it to a data frame & take the max\n",
    "# output: find the largest palindome\n",
    "\n",
    "# created 2 lists of all 3 digit numbers\n",
    "input = range(100,1000)\n",
    "input2 = range(100,1000)\n",
    "palindromes = [] #and an empty data frame to append our products into\n",
    "\n",
    "#created a function that returns the reverse of the input (p)\n",
    "def is_Palindrome(p):\n",
    "    return p == p[::-1]\n",
    "\n",
    "#created a loop to multiply all the digits in the first input by the second input\n",
    "for first_digit in input:\n",
    "    for second_digit in input2:\n",
    "        product = first_digit*second_digit #found the product\n",
    "        if is_Palindrome(str(product)): # if the product is a palindrome\n",
    "            palindromes.append(product) #appended the product into the empty palindrome data frame\n",
    "\n",
    "max(palindromes) # took the max number in the palindrome\n",
    "\n"
   ]
  },
  {
   "cell_type": "markdown",
   "metadata": {},
   "source": [
    "\n",
    "### Challenge 2: Summation of Primes\n",
    "The sum of the primes below 10 is 2 + 3 + 5 + 7 = 17. Find the sum of all the primes below 2,000. Afterward, write a brief explanation walking through your code's logic in markdown."
   ]
  },
  {
   "cell_type": "code",
   "execution_count": 6,
   "metadata": {},
   "outputs": [
    {
     "data": {
      "text/plain": [
       "277050"
      ]
     },
     "execution_count": 6,
     "metadata": {},
     "output_type": "execute_result"
    }
   ],
   "source": [
    "\n",
    "# input: numbers below 2000\n",
    "# method: create a loop to find the prime numbers in the input\n",
    "# output: sum the output\n",
    "\n",
    "import sympy as sy #imported sympy to use the prime number function\n",
    "\n",
    "input = range(1,2001) #created a list of number between 1-2000 using range()\n",
    "prime_numbers = [] # created an empty data frame to append the prime numbers to\n",
    "\n",
    "for num in input:\n",
    "    if sy.isprime(num): # Then I looped through the numbers in the above list, and if they were prime numbers (proven true using the isprime() function) i added the output to the empty prime_numbers list \n",
    "        prime_numbers.append(num)\n",
    "\n",
    "\n",
    "sum(prime_numbers) # sum'd the prime_numbers list\n"
   ]
  },
  {
   "cell_type": "markdown",
   "metadata": {},
   "source": [
    "### Challenge 3: Multiples of 3 and 5\n",
    "If we list all of the natural numbers below 10 that are multiples of 3 or 5, we get 3, 5, 6, and 9. The sum of these multiples is 23. Find the sum of all the multiples of 3 and 5 below 1,000. Afterward, write a brief explanation walking through your code's logic in markdown."
   ]
  },
  {
   "cell_type": "code",
   "execution_count": 7,
   "metadata": {},
   "outputs": [
    {
     "data": {
      "text/plain": [
       "234168"
      ]
     },
     "execution_count": 7,
     "metadata": {},
     "output_type": "execute_result"
    }
   ],
   "source": [
    "# input: numbers 1 - 1001\n",
    "# method: numbers that are divisible by 3 or 5\n",
    "# output: sum the output\n",
    "\n",
    "input = range(1,1001) #created a list of number between 1-1000 using range()\n",
    "multiples_of_3_or_5 = [] # created an empty data frame to append the multiples of 3 or 5\n",
    "\n",
    "for num in input:\n",
    "    if num%3 == 0 or num%5 == 0: # looped through the numbers in the input, if conditions were true (they were a multiple of 3 or 5)..\n",
    "        multiples_of_3_or_5.append(num) #appended the numbers to the empty multiples_of_3_or_5 data frame\n",
    "\n",
    "sum(multiples_of_3_or_5)"
   ]
  },
  {
   "cell_type": "markdown",
   "metadata": {},
   "source": [
    "### Challenge 4: String Compressor\n",
    "Implement a method to perform basic string compression using the counts of repeated characters. (This is called run-length encoding.) For example, the string \"aabcccccaaa\" would become a2b1c5a3. If the “compressed” string would not become smaller than the original string, your method should return the original string. You can assume the string has only uppercase and lowercase letters (a–z). Specify whether your solution is case sensitive or case insensitive and what you would need to change to make it the other. Afterward, write a brief explanation walking through your code's logic in markdown."
   ]
  },
  {
   "cell_type": "code",
   "execution_count": 8,
   "metadata": {},
   "outputs": [
    {
     "name": "stdout",
     "output_type": "stream",
     "text": [
      "aaccbb\n"
     ]
    }
   ],
   "source": [
    "# input: a string\n",
    "# method: create a function then checks if the letter in the current position is the same as the letter in next position\n",
    "#         if that is true, add + 1 to the counter\n",
    "# .       if thats false, append the letter + the counter to a string (ultimately creating the compressed string)\n",
    "# .       write an if then statement for length of original string vs. compressed string\n",
    "# output: whichever is smaller: the original string or the compressed string\n",
    "\n",
    "input_test = 'aaccbb'\n",
    "\n",
    "def string_compression(input_string):\n",
    "    comp_string = \"\"\n",
    "    count = 1 #counter needs to be \"1\" & not \"0\" to account for the letter's current position\n",
    "   \n",
    "                                        # for the item in the range, I am checking if that item is the same as the next item       \n",
    "    for i in range(len(input_string)-1):# need to -1 or you'll get an error because the last item in the string cant be check vs. the next letter (input_string[i+1])\n",
    "        if input_string[i] == input_string[i+1]:\n",
    "            count += 1 # if true add 1 to counter\n",
    "        else:\n",
    "            comp_string += input_string[i] + str(count) # if false - add the current input string (current letter) + the count (num of times it appears) to the compressed string. Need to use \"+=\" when adding items that are not integers  \n",
    "            count = 1\n",
    "    comp_string += input_string[i] + str(count) #since you don't get to loop for the last letter, need to add this for the last bit to be outputted\n",
    "  #  return comp_string - checked to confirm my output was correct\n",
    "\n",
    "    \n",
    "    if len(comp_string) >= len(input_string): #if statement to compare the length of the original string vs. the compressed string\n",
    "        return input_string # if above is true return input string\n",
    "    else: \n",
    "        return comp_string # if above is false return compressed string\n",
    "    \n",
    "print(string_compression(input_test))"
   ]
  },
  {
   "cell_type": "markdown",
   "metadata": {},
   "source": [
    "### *BONUS* Challenge: FizzBuzz\n",
    "Write a program that prints all of the numbers from 1 to 100. For multiples of 3, instead of the number, print \"Fizz;\" for multiples of 5, print \"Buzz.\" For numbers that are multiples of both 3 and 5, print \"FizzBuzz.\" Afterward, write a brief explanation walking through your code's logic in markdown."
   ]
  },
  {
   "cell_type": "code",
   "execution_count": 9,
   "metadata": {
    "scrolled": true
   },
   "outputs": [
    {
     "name": "stdout",
     "output_type": "stream",
     "text": [
      "[1, 2, 'fizz', 4, 'buzz', 'fizz', 7, 8, 'fizz', 'buzz', 11, 'fizz', 13, 14, 'FizzBuzz', 16, 17, 'fizz', 19, 'buzz', 'fizz', 22, 23, 'fizz', 'buzz', 26, 'fizz', 28, 29, 'FizzBuzz', 31, 32, 'fizz', 34, 'buzz', 'fizz', 37, 38, 'fizz', 'buzz', 41, 'fizz', 43, 44, 'FizzBuzz', 46, 47, 'fizz', 49, 'buzz', 'fizz', 52, 53, 'fizz', 'buzz', 56, 'fizz', 58, 59, 'FizzBuzz', 61, 62, 'fizz', 64, 'buzz', 'fizz', 67, 68, 'fizz', 'buzz', 71, 'fizz', 73, 74, 'FizzBuzz', 76, 77, 'fizz', 79, 'buzz', 'fizz', 82, 83, 'fizz', 'buzz', 86, 'fizz', 88, 89, 'FizzBuzz', 91, 92, 'fizz', 94, 'buzz', 'fizz', 97, 98, 'fizz', 'buzz']\n"
     ]
    }
   ],
   "source": [
    "#input: numbers 1 - 100\n",
    "#method: create a loop to check each num against the following criteria:\n",
    "# .      for each number, if its a multiple of 3 and 5 print fizzbuzz\n",
    "#        if multiple of 5 print buzz\n",
    "#        if multiple of 3 print fizz\n",
    "#        else print number\n",
    "#        append output to a new list\n",
    "# .      print the list\n",
    "#output: print all input numbers, but for multiples of 3 print \"fizz\"\n",
    "#        for multiples of 5 print \"buzz\"\n",
    "#        for multiples of both 3 & 5 print FizzBuzz\n",
    "\n",
    "\n",
    "input = range(1,101) # use range to create a list of numbers, 1 - 100\n",
    "output = [] # created empty data frame to append my output to\n",
    "\n",
    "for num in input: # created a loop to check each number vs. the criteria (divisible by 3 and 5, just 3 or just 5) & desired output \n",
    "    if num%5 == 0 and num%3 == 0: # needed to do 5 & 3 first because once the criteria is true, the item stops looping\n",
    "        output.append('FizzBuzz')\n",
    "    elif num%5 == 0:\n",
    "        output.append('buzz')\n",
    "    elif num%3 == 0:\n",
    "        output.append('fizz')\n",
    "    else:\n",
    "        output.append(num)\n",
    "\n",
    "print(output)\n",
    "        "
   ]
  },
  {
   "cell_type": "code",
   "execution_count": null,
   "metadata": {},
   "outputs": [],
   "source": []
  }
 ],
 "metadata": {
  "anaconda-cloud": {},
  "kernelspec": {
   "display_name": "Python 3",
   "language": "python",
   "name": "python3"
  },
  "language_info": {
   "codemirror_mode": {
    "name": "ipython",
    "version": 3
   },
   "file_extension": ".py",
   "mimetype": "text/x-python",
   "name": "python",
   "nbconvert_exporter": "python",
   "pygments_lexer": "ipython3",
   "version": "3.7.4"
  }
 },
 "nbformat": 4,
 "nbformat_minor": 2
}
