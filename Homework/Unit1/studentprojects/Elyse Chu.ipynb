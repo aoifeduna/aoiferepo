{
 "cells": [
  {
   "cell_type": "markdown",
   "metadata": {},
   "source": [
    "<img src=\"http://imgur.com/1ZcRyrc.png\" style=\"float: left; margin: 20px; height: 55px\">\n",
    "\n",
    "# Project 1: Python Coding Exercises\n",
    "\n",
    "_Authors: Joseph Nelson (DC) _\n",
    "\n",
    "---"
   ]
  },
  {
   "cell_type": "markdown",
   "metadata": {},
   "source": [
    "The following code challenges are drawn from common exercises used in technical interviews.\n",
    "\n",
    "Please note that there may be several ways to approach each challenge. If you get stuck, try mapping out your approach in pseudocode first. Finally, while solutions to problems like these may be found online, remember that if you copy/paste code that you can't explain, you'll be missing out on the point of the project. The only way to truly learn a new skill is through practice, trial, and error - we can only help you improve by understanding where you are having trouble."
   ]
  },
  {
   "cell_type": "markdown",
   "metadata": {},
   "source": [
    "### Challenge 1: Largest Palindrome\n",
    "A palindromic number reads the same both ways. For example, 1234321 is a palindrome. The largest palindrome made from the product of two two-digit numbers is 9009 = 91 × 99. Find the largest palindrome made from the product of two three-digit numbers. Afterward, write a brief explanation walking through your code's logic in markdown."
   ]
  },
  {
   "cell_type": "code",
   "execution_count": 8,
   "metadata": {},
   "outputs": [
    {
     "name": "stdout",
     "output_type": "stream",
     "text": [
      "906609\n"
     ]
    }
   ],
   "source": [
    "def is_palindrome(number): #create function to check if number is a palindrome\n",
    "    value = str(number) #convert number into a string and assign it to a variable \n",
    "    if value == str(number)[::-1]: #conditional statement to evaluate if  number is equal to its reverse found by using slicing\n",
    "        return True #if value is equal to its reverse, then it is a palindrome\n",
    "    else:\n",
    "        return False #if value and its reverse are NOT equal, then it is NOT a palindrome\n",
    "    \n",
    "\n",
    "palindrome_list = [] #create empty list to store all palindromes found\n",
    "lar_palindrome = \"\" #create empty variable to store largest palindrome\n",
    "\n",
    "for x in range(100,1000): #looped through list of three-digit numbers\n",
    "    for y in range(100,1000): #looped through list of three-digit numbers\n",
    "        z = x * y #product of two-three digit numbers\n",
    "        if is_palindrome(z) == True and z not in palindrome_list: #conditional statement to evaluate if product is a palindrome using 'is_palindrome' function\n",
    "            palindrome_list.append(z) #if it is a palindrome, append value to palindrome_list\n",
    "            \n",
    "lar_palindrome = (sorted(palindrome_list)[-1]) #sort palindrome_list from lowest to highest and retrieve highest value, then assign to variable 'lar_palindrome'\n",
    "\n",
    "print(lar_palindrome) #print largest palindrome made from the product of two three-digit numbers"
   ]
  },
  {
   "cell_type": "markdown",
   "metadata": {},
   "source": [
    "\n",
    "### Challenge 2: Summation of Primes\n",
    "The sum of the primes below 10 is 2 + 3 + 5 + 7 = 17. Find the sum of all the primes below 2,000. Afterward, write a brief explanation walking through your code's logic in markdown."
   ]
  },
  {
   "cell_type": "code",
   "execution_count": 9,
   "metadata": {
    "scrolled": true
   },
   "outputs": [
    {
     "data": {
      "text/plain": [
       "277050"
      ]
     },
     "execution_count": 9,
     "metadata": {},
     "output_type": "execute_result"
    }
   ],
   "source": [
    "def is_prime(number): #create function to evaluate if a number is prime\n",
    "    for value in range(2, number): #loop through values from 2 to input number\n",
    "        if (number % value) == 0: #if number divides evenly by the value, the number is not prime\n",
    "             return False\n",
    "    if number <= 1: #prime numbers are not equal to 1 or negative\n",
    "        return False\n",
    "    else: #if the number doesn't meet any above conditions, return input number\n",
    "        return number\n",
    "        \n",
    "\n",
    "def sum_primes(x,y): #create function to sum all prime numbers within a range\n",
    "    prime_list = [] #create empty list to store prime numbers\n",
    "    for value in range(x, y+1): #loop through values within a range\n",
    "        if is_prime(value) != False:  #conditional statement to evaluate if value is prime number using the 'is_prime' function\n",
    "            prime_list.append(value) #if prime, append value to 'prime_list'\n",
    "    return sum(prime_list) #sum all values found in 'prime_list'\n",
    "    \n",
    "sum_primes(1,2000) #sum all prime numbers below 2000"
   ]
  },
  {
   "cell_type": "code",
   "execution_count": 10,
   "metadata": {},
   "outputs": [
    {
     "data": {
      "text/plain": [
       "11"
      ]
     },
     "execution_count": 10,
     "metadata": {},
     "output_type": "execute_result"
    }
   ],
   "source": [
    "is_prime(11) #checking if 'is_prime' function works properly"
   ]
  },
  {
   "cell_type": "markdown",
   "metadata": {},
   "source": [
    "### Challenge 3: Multiples of 3 and 5\n",
    "If we list all of the natural numbers below 10 that are multiples of 3 or 5, we get 3, 5, 6, and 9. The sum of these multiples is 23. Find the sum of all the multiples of 3 and 5 below 1,000. Afterward, write a brief explanation walking through your code's logic in markdown."
   ]
  },
  {
   "cell_type": "code",
   "execution_count": 11,
   "metadata": {},
   "outputs": [
    {
     "data": {
      "text/plain": [
       "233168"
      ]
     },
     "execution_count": 11,
     "metadata": {},
     "output_type": "execute_result"
    }
   ],
   "source": [
    "def sum_multiples(x, y, z): #create function to sum multiples within a range\n",
    "    multiples_list = [] #create an empty list to house multiples\n",
    "    for value in range(1, z): #loop through values below z parameter\n",
    "        if (value % 3 == 0) or (value % 5 == 0): #if value divides evenly by 3 or 5, append number to the 'multiples_list'\n",
    "            multiples_list.append(value)\n",
    "    return sum(multiples_list) #return sum of all values in 'multiples_list'\n",
    "\n",
    "sum_multiples(3, 5, 1000) #sums all multiples of 3 and 5 below 1000"
   ]
  },
  {
   "cell_type": "markdown",
   "metadata": {},
   "source": [
    "### Challenge 4: String Compressor\n",
    "Implement a method to perform basic string compression using the counts of repeated characters. (This is called run-length encoding.) For example, the string \"aabcccccaaa\" would become a2b1c5a3. If the “compressed” string would not become smaller than the original string, your method should return the original string. You can assume the string has only uppercase and lowercase letters (a–z). Specify whether your solution is case sensitive or case insensitive and what you would need to change to make it the other. Afterward, write a brief explanation walking through your code's logic in markdown."
   ]
  },
  {
   "cell_type": "code",
   "execution_count": 2,
   "metadata": {},
   "outputs": [
    {
     "data": {
      "text/plain": [
       "'a2b1c5a3'"
      ]
     },
     "execution_count": 2,
     "metadata": {},
     "output_type": "execute_result"
    }
   ],
   "source": [
    "def compressor(input_string): #create function to compress string\n",
    "    compressed_str = \"\" #create empty variable to store compressed string\n",
    "    counter = 1 #set character counter at 1\n",
    "    for value in range(len(input_string)-1): #loop through each string character excluding the last one\n",
    "        if input_string[value] == input_string[value+1]: #if the evaluated character matches the subsequent character, add 1 to the character counter\n",
    "            counter += 1\n",
    "        else:            \n",
    "            compressed_str += input_string[value] + str(counter) #if current character does NOT match the subsequent character, leave counter as 1 \n",
    "            counter = 1\n",
    "    compressed_str += input_string[value] + str(counter) #accounting for last string character and its count\n",
    "    return compressed_str #return compressed string\n",
    "\n",
    "    if len(compressed_str) >= len(input_string): #evaluate if length of compressed string is greater than the original string\n",
    "        return input_string #if compressed length is greater, then return original string\n",
    "    else:\n",
    "        return compressed_string #if compressed length is smaller, return compressed string\n",
    "    \n",
    "compressor('aabcccccaaa')"
   ]
  },
  {
   "cell_type": "code",
   "execution_count": 6,
   "metadata": {},
   "outputs": [
    {
     "name": "stdout",
     "output_type": "stream",
     "text": [
      "Enter string here:aabcCCCccaaa\n"
     ]
    }
   ],
   "source": [
    "#code is case-insensitive\n",
    "\n",
    "input_string = input('Enter string here:')"
   ]
  },
  {
   "cell_type": "code",
   "execution_count": 7,
   "metadata": {},
   "outputs": [
    {
     "name": "stdout",
     "output_type": "stream",
     "text": [
      "aabccccccaaa\n"
     ]
    }
   ],
   "source": [
    "print(input_string.lower()) #changing string to contain only all lowercase letters"
   ]
  },
  {
   "cell_type": "markdown",
   "metadata": {},
   "source": [
    "### *BONUS* Challenge: FizzBuzz\n",
    "Write a program that prints all of the numbers from 1 to 100. For multiples of 3, instead of the number, print \"Fizz;\" for multiples of 5, print \"Buzz.\" For numbers that are multiples of both 3 and 5, print \"FizzBuzz.\" Afterward, write a brief explanation walking through your code's logic in markdown."
   ]
  },
  {
   "cell_type": "code",
   "execution_count": 12,
   "metadata": {},
   "outputs": [
    {
     "name": "stdout",
     "output_type": "stream",
     "text": [
      "1\n",
      "2\n",
      "Fizz\n",
      "4\n",
      "Buzz\n",
      "Fizz\n",
      "7\n",
      "8\n",
      "Fizz\n",
      "Buzz\n",
      "11\n",
      "Fizz\n",
      "13\n",
      "14\n",
      "FizzBuzz\n",
      "16\n",
      "17\n",
      "Fizz\n",
      "19\n",
      "Buzz\n",
      "Fizz\n",
      "22\n",
      "23\n",
      "Fizz\n",
      "Buzz\n",
      "26\n",
      "Fizz\n",
      "28\n",
      "29\n",
      "FizzBuzz\n",
      "31\n",
      "32\n",
      "Fizz\n",
      "34\n",
      "Buzz\n",
      "Fizz\n",
      "37\n",
      "38\n",
      "Fizz\n",
      "Buzz\n",
      "41\n",
      "Fizz\n",
      "43\n",
      "44\n",
      "FizzBuzz\n",
      "46\n",
      "47\n",
      "Fizz\n",
      "49\n",
      "Buzz\n",
      "Fizz\n",
      "52\n",
      "53\n",
      "Fizz\n",
      "Buzz\n",
      "56\n",
      "Fizz\n",
      "58\n",
      "59\n",
      "FizzBuzz\n",
      "61\n",
      "62\n",
      "Fizz\n",
      "64\n",
      "Buzz\n",
      "Fizz\n",
      "67\n",
      "68\n",
      "Fizz\n",
      "Buzz\n",
      "71\n",
      "Fizz\n",
      "73\n",
      "74\n",
      "FizzBuzz\n",
      "76\n",
      "77\n",
      "Fizz\n",
      "79\n",
      "Buzz\n",
      "Fizz\n",
      "82\n",
      "83\n",
      "Fizz\n",
      "Buzz\n",
      "86\n",
      "Fizz\n",
      "88\n",
      "89\n",
      "FizzBuzz\n",
      "91\n",
      "92\n",
      "Fizz\n",
      "94\n",
      "Buzz\n",
      "Fizz\n",
      "97\n",
      "98\n",
      "Fizz\n"
     ]
    }
   ],
   "source": [
    "for value in range(1, 100): #evaluating all numbers from 1 to 100\n",
    "    if (value % 3 == 0) and (value % 5 == 0): #if number divides evenly by 3 or 5, print \"FizzBuzz\"\n",
    "        print(\"FizzBuzz\")\n",
    "    elif value % 5 == 0: #if number divides evenly by 5, print \"Buzz\"\n",
    "        print(\"Buzz\")\n",
    "    elif value % 3 == 0: #if number divides evenly by 3, print \"Fizz\"\n",
    "        print(\"Fizz\")\n",
    "    else: #if none of the conditions above are met, print the number\n",
    "        print(value)\n",
    "    "
   ]
  },
  {
   "cell_type": "code",
   "execution_count": null,
   "metadata": {},
   "outputs": [],
   "source": []
  },
  {
   "cell_type": "code",
   "execution_count": null,
   "metadata": {},
   "outputs": [],
   "source": []
  }
 ],
 "metadata": {
  "anaconda-cloud": {},
  "kernelspec": {
   "display_name": "Python 3",
   "language": "python",
   "name": "python3"
  },
  "language_info": {
   "codemirror_mode": {
    "name": "ipython",
    "version": 3
   },
   "file_extension": ".py",
   "mimetype": "text/x-python",
   "name": "python",
   "nbconvert_exporter": "python",
   "pygments_lexer": "ipython3",
   "version": "3.7.4"
  }
 },
 "nbformat": 4,
 "nbformat_minor": 2
}
