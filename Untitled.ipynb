{
 "cells": [
  {
   "cell_type": "code",
   "execution_count": 1,
   "metadata": {},
   "outputs": [
    {
     "ename": "SyntaxError",
     "evalue": "invalid syntax (<ipython-input-1-896fea0aa9b2>, line 8)",
     "output_type": "error",
     "traceback": [
      "\u001b[0;36m  File \u001b[0;32m\"<ipython-input-1-896fea0aa9b2>\"\u001b[0;36m, line \u001b[0;32m8\u001b[0m\n\u001b[0;31m    check(sensor_id:string\u001b[0m\n\u001b[0m                   ^\u001b[0m\n\u001b[0;31mSyntaxError\u001b[0m\u001b[0;31m:\u001b[0m invalid syntax\n"
     ]
    }
   ],
   "source": [
    "characteristics = {}\n",
    "\n",
    "def check():\n",
    "    for i in input:\n",
    "        if i not in characteristics:\n",
    "            characteristics.append(i)\n",
    "            \n",
    "check(sensor_id:string\n",
    "athlete_id:string\n",
    "dock_id:string\n",
    "client_id:string\n",
    "warehouse_id:string\n",
    "firmware_version:string\n",
    "assignment_time:string\n",
    "assignment_date:date\n",
    "session_id:string\n",
    "setting_id:string\n",
    "processed_time:timestamp\n",
    "timestamp:long\n",
    "batt_charge:string\n",
    "batt_voltage:string\n",
    "microphone:integer\n",
    "temp:integer\n",
    "humidity:integer\n",
    "pressure:long\n",
    "red:integer\n",
    "green:integer\n",
    "blue:integer\n",
    "clear:integer\n",
    "CO2_eq:integer\n",
    "TVOC:integer\n",
    "tap_dir:string\n",
    "tap_cnt:string\n",
    "gravity_0:float\n",
    "gravity_1:float\n",
    "gravity_2:float\n",
    "pedo_num:float\n",
    "pedo_ms:float\n",
    ")\n",
    "\n"
   ]
  },
  {
   "cell_type": "code",
   "execution_count": null,
   "metadata": {},
   "outputs": [],
   "source": []
  }
 ],
 "metadata": {
  "kernelspec": {
   "display_name": "Python 3",
   "language": "python",
   "name": "python3"
  },
  "language_info": {
   "codemirror_mode": {
    "name": "ipython",
    "version": 3
   },
   "file_extension": ".py",
   "mimetype": "text/x-python",
   "name": "python",
   "nbconvert_exporter": "python",
   "pygments_lexer": "ipython3",
   "version": "3.7.4"
  }
 },
 "nbformat": 4,
 "nbformat_minor": 2
}
